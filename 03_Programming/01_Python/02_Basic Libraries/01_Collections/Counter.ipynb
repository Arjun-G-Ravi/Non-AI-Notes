{
 "cells": [
  {
   "cell_type": "markdown",
   "metadata": {},
   "source": [
    "# Collections\n",
    "he collections module in Python is part of the Python Standard Library and provides additional data structures and tools for working with them that go beyond the built-in data types .\n",
    " It offers several specialized container datatypes that are highly efficient and convenient for various programming tasks. \n",
    "\n",
    "The most important of them are:\n",
    "- **Namedtuple**: This class creates a simple, memory-efficient data structure with named fields. It is essentially a subclass of a regular tuple, but the fields have names. This can make code more readable and self-documenting.\n",
    "- **deque**: A deque, short for \"double-ended queue,\" is a data structure that allows fast and efficient append and pop operations from both ends, making it useful for implementing queues and stacks.\n",
    "- **Counter**: Counter is a subclass of a dictionary that is used for counting the frequency of elements in an iterable. It provides a convenient way to count the occurrences of items in a collection.\n",
    "- **defaultdict**: defaultdict is a dictionary-like container that provides a default value for keys that do not exist. It is a subclass of the built-in dict and makes it easier to work with missing keys.\n",
    "- **OrderedDict**: An OrderedDict is a dictionary that remembers the order of keys in which they were first inserted.\n",
    "- **ChainMap**: ChainMap is a class that groups multiple dictionaries into a single, view-like mapping. It allows you to search for keys in a chain of dictionaries and returns the first match."
   ]
  },
  {
   "cell_type": "markdown",
   "metadata": {},
   "source": [
    "# Counter\n",
    " Counter is a subclass of a dictionary that provides a convenient way to count the occurrences of items in a collection. "
   ]
  },
  {
   "cell_type": "code",
   "execution_count": 1,
   "metadata": {},
   "outputs": [],
   "source": [
    "from collections import Counter"
   ]
  },
  {
   "cell_type": "code",
   "execution_count": 2,
   "metadata": {},
   "outputs": [
    {
     "name": "stdout",
     "output_type": "stream",
     "text": [
      "Counter({'cow': 8, 6: 6, 4: 3, 2: 2, 3: 2, 5: 2, 1: 1, 'Cow': 1}) <class 'collections.Counter'>\n"
     ]
    }
   ],
   "source": [
    "l = [1,2,3,4,5,6,2,3,4,5,6,6,6,6,6,4, 'Cow','cow','cow','cow','cow','cow','cow','cow','cow']\n",
    "c = Counter(l)\n",
    "print(c, type(c))  # The counter looks like a custom dictionary with the frequency of each object in the list."
   ]
  },
  {
   "cell_type": "markdown",
   "metadata": {},
   "source": [
    "Methods"
   ]
  },
  {
   "cell_type": "code",
   "execution_count": 3,
   "metadata": {},
   "outputs": [
    {
     "name": "stdout",
     "output_type": "stream",
     "text": [
      "Counter({'cow': 8, 6: 6, 4: 3, 2: 2, 3: 2, 5: 2, 'l': 2, 1: 1, 'Cow': 1, 'h': 1, 'e': 1, 'o': 1})\n"
     ]
    }
   ],
   "source": [
    "c.update('hello')  # Since hello is a string, each character's count is added\n",
    "print(c)"
   ]
  },
  {
   "cell_type": "code",
   "execution_count": 4,
   "metadata": {},
   "outputs": [
    {
     "name": "stdout",
     "output_type": "stream",
     "text": [
      "Counter({'cow': 7, 6: 6, 4: 3, 2: 2, 3: 2, 5: 2, 'l': 2, 1: 1, 'Cow': 1, 'h': 1, 'e': 1, 'o': 1})\n"
     ]
    }
   ],
   "source": [
    "c.subtract(['cow'])  # Since we have put 'cow' in a list, it is treated as one word\n",
    "print(c)"
   ]
  },
  {
   "cell_type": "code",
   "execution_count": 5,
   "metadata": {},
   "outputs": [
    {
     "name": "stdout",
     "output_type": "stream",
     "text": [
      "[('cow', 7), (6, 6)]\n",
      "Counter({'cow': 7, 6: 6, 4: 3, 2: 2, 3: 2, 5: 2, 'l': 2, 1: 1, 'Cow': 1, 'h': 1, 'e': 1, 'o': 1})\n"
     ]
    }
   ],
   "source": [
    "print(c.most_common(2))  # To get the most common elements\n",
    "print(c)"
   ]
  },
  {
   "cell_type": "code",
   "execution_count": 6,
   "metadata": {},
   "outputs": [
    {
     "data": {
      "text/plain": [
       "Counter()"
      ]
     },
     "execution_count": 6,
     "metadata": {},
     "output_type": "execute_result"
    }
   ],
   "source": [
    "c.clear()\n",
    "c"
   ]
  },
  {
   "cell_type": "markdown",
   "metadata": {},
   "source": [
    "We can also do addition(+), subtraction(-), union(|) and intersection(&) between two counters."
   ]
  }
 ],
 "metadata": {
  "kernelspec": {
   "display_name": "AI_ENV",
   "language": "python",
   "name": "python3"
  },
  "language_info": {
   "codemirror_mode": {
    "name": "ipython",
    "version": 3
   },
   "file_extension": ".py",
   "mimetype": "text/x-python",
   "name": "python",
   "nbconvert_exporter": "python",
   "pygments_lexer": "ipython3",
   "version": "3.10.12"
  }
 },
 "nbformat": 4,
 "nbformat_minor": 2
}
