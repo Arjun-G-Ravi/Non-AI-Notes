{
 "cells": [
  {
   "cell_type": "markdown",
   "metadata": {},
   "source": [
    "# Dunder Methods\n",
    "\n",
    "They are the methods with double underscore at the start and end of their name.\n",
    "\n",
    "In Python, \"dunder\" is a colloquial term that stands for \"double underscore,\"."
   ]
  },
  {
   "cell_type": "markdown",
   "metadata": {},
   "source": [
    "## 1. _ _ init _ _ ()\n",
    "\n",
    "This method is called if you want to do something, just by creating an object of a class."
   ]
  },
  {
   "cell_type": "markdown",
   "metadata": {},
   "source": [
    "# 2. _ _ del _ _()\n",
    "\n",
    "This method automatically deletes the object from memory after it has been used. This can be manually triggered using del ```del obj``` command.\n",
    "\n",
    "\n",
    "\n",
    "It's worth noting that relying on __ del __ for cleanup is generally discouraged. It's often better to use context managers (with statements) or other mechanisms to ensure proper resource management, as the timing of __ del __ is not guaranteed and may vary depending on how the garbage collector operates.\n"
   ]
  },
  {
   "cell_type": "markdown",
   "metadata": {},
   "source": [
    "# 3. _ _ repr _ _ ()\n",
    "\n",
    "What is returned by repr is called when we print the object."
   ]
  },
  {
   "cell_type": "markdown",
   "metadata": {},
   "source": [
    "# 4. _ _ add _ _(), _ _ sub _ _(), _ _ mul _ _(), _ _ div _ _(),_ _ pow_ _ (), _ _mod__()\n",
    "\n",
    "Allows addition, subtraction, multiplication, division, power and modulus between two class objects, using the respective operator symbols (+, -, etc.)"
   ]
  },
  {
   "cell_type": "markdown",
   "metadata": {},
   "source": [
    "# 5. Numerical \n",
    " - __ trunc __(self): Implements behavior for math.trunc()\n",
    " - __ ceil __(self): Implements behavior for math.ceil()\n",
    " - __ floor __(self): Implements behavior for math.floor()\n",
    " - __ round __(self,n): Implements behavior for the built-in round()\n",
    " - __ invert __(self): Implements behavior for inversion using the ~ operator.\n",
    " - __ abs __(self): Implements behavior for the built-in abs()\n",
    " - __ neg __(self): Implements behavior for negation\n",
    " - __ pos __(self): Implements behavior for unary positive "
   ]
  },
  {
   "cell_type": "markdown",
   "metadata": {},
   "source": [
    "# 6. Comparison magic methods\n",
    "\n",
    " - __ eq __(self, other): Defines behavior for the equality operator, ==.\n",
    " - __ ne __(self, other): Defines behavior for the inequality operator, !=.\n",
    " - __ lt __(self, other): Defines behavior for the less-than operator, <.\n",
    " - __ gt __(self, other): Defines behavior for the greater-than operator, >.\n",
    " - __ le __(self, other): Defines behavior for the less-than-or-equal-to operator, <=.\n",
    " - __ ge __(self, other): Defines behavior for the greater-than-or-equal-to operator, >=.\n",
    "\n",
    "\n",
    "They also enable sorting of the corresponding objects within any data structure."
   ]
  }
 ],
 "metadata": {
  "kernelspec": {
   "display_name": "AI_ENV",
   "language": "python",
   "name": "python3"
  },
  "language_info": {
   "codemirror_mode": {
    "name": "ipython",
    "version": 3
   },
   "file_extension": ".py",
   "mimetype": "text/x-python",
   "name": "python",
   "nbconvert_exporter": "python",
   "pygments_lexer": "ipython3",
   "version": "3.10.12"
  }
 },
 "nbformat": 4,
 "nbformat_minor": 2
}
