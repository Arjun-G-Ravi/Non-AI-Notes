{
 "cells": [
  {
   "cell_type": "markdown",
   "metadata": {},
   "source": [
    "# Star operator (*) in Python"
   ]
  },
  {
   "cell_type": "markdown",
   "metadata": {},
   "source": [
    "## 1. Multiplication\n",
    "x = 3*4\n",
    "\n",
    "## 2. Power \n",
    "x = 3**5"
   ]
  },
  {
   "cell_type": "markdown",
   "metadata": {},
   "source": [
    "## 3. Variable arguments\n",
    "Used for *args and ** kwargs <- see 07"
   ]
  },
  {
   "cell_type": "markdown",
   "metadata": {},
   "source": [
    "## 4. Argument Unpacking"
   ]
  },
  {
   "cell_type": "code",
   "execution_count": 13,
   "metadata": {},
   "outputs": [
    {
     "name": "stdout",
     "output_type": "stream",
     "text": [
      "1 2 3\n",
      "1 20 goat\n"
     ]
    }
   ],
   "source": [
    "l = [1,2,3]\n",
    "d = {'a':'1', 'b':'20', 'c':'goat'} # has to have same elements though !\n",
    "\n",
    "def cow(a,b,c):\n",
    "    print(a,b,c)\n",
    "    \n",
    "cow(*l) # Unpacks the elements in the list as the arguments of the function\n",
    "cow(**d)"
   ]
  },
  {
   "cell_type": "markdown",
   "metadata": {},
   "source": [
    "## 5. List unpacking"
   ]
  },
  {
   "cell_type": "code",
   "execution_count": 4,
   "metadata": {},
   "outputs": [
    {
     "name": "stdout",
     "output_type": "stream",
     "text": [
      "0 1 [2, 3, 4, 5, 6, 7, 8] 9\n"
     ]
    }
   ],
   "source": [
    "l = [i for i in range(10)]\n",
    "\n",
    "first, second, *rest, last = l\n",
    "\n",
    "print(first, second, rest, last)"
   ]
  },
  {
   "cell_type": "markdown",
   "metadata": {},
   "source": [
    "## 6. List merging"
   ]
  },
  {
   "cell_type": "code",
   "execution_count": 9,
   "metadata": {},
   "outputs": [
    {
     "name": "stdout",
     "output_type": "stream",
     "text": [
      "['g', 'o', 'a', 't'] {0, 1, 2, 3, 4, 5, 6, 7, 8, 9} ('b', 'a', 'f', 'o', 'o', 'n')\n",
      "['g', 'o', 'a', 't', 0, 1, 2, 3, 4, 5, 6, 7, 8, 9, 'b', 'a', 'f', 'o', 'o', 'n']\n"
     ]
    }
   ],
   "source": [
    "l = [i for i in 'goat']\n",
    "s = {i for i in range(10)}\n",
    "t = tuple(i for i in 'bafoon')\n",
    "print(l, s,t)\n",
    "\n",
    "merged_list = [*l, *s, *t]\n",
    "print(merged_list)"
   ]
  }
 ],
 "metadata": {
  "kernelspec": {
   "display_name": "AI_ENV",
   "language": "python",
   "name": "python3"
  },
  "language_info": {
   "codemirror_mode": {
    "name": "ipython",
    "version": 3
   },
   "file_extension": ".py",
   "mimetype": "text/x-python",
   "name": "python",
   "nbconvert_exporter": "python",
   "pygments_lexer": "ipython3",
   "version": "3.10.12"
  }
 },
 "nbformat": 4,
 "nbformat_minor": 2
}
