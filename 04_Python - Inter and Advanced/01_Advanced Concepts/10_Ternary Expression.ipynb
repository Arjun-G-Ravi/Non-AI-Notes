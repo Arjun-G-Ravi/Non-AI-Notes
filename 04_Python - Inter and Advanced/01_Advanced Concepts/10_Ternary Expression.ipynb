{
 "cells": [
  {
   "cell_type": "markdown",
   "metadata": {},
   "source": [
    "# Ternary expression\n",
    "\n",
    "In Python, a ternary operator (also known as a ternary expression) is a concise way to write an if-else statement in a single line. It allows you to express the conditional assignment of values in a more compact form."
   ]
  },
  {
   "cell_type": "code",
   "execution_count": 2,
   "metadata": {},
   "outputs": [
    {
     "name": "stdout",
     "output_type": "stream",
     "text": [
      "cow\n"
     ]
    }
   ],
   "source": [
    "num = 45\n",
    "\n",
    "print('Wow' if num>100 else 'hmmm' if num>80 else 'cow' if num>40 else 'Meh!')"
   ]
  }
 ],
 "metadata": {
  "kernelspec": {
   "display_name": "AI_ENV",
   "language": "python",
   "name": "python3"
  },
  "language_info": {
   "codemirror_mode": {
    "name": "ipython",
    "version": 3
   },
   "file_extension": ".py",
   "mimetype": "text/x-python",
   "name": "python",
   "nbconvert_exporter": "python",
   "pygments_lexer": "ipython3",
   "version": "3.10.12"
  }
 },
 "nbformat": 4,
 "nbformat_minor": 2
}
