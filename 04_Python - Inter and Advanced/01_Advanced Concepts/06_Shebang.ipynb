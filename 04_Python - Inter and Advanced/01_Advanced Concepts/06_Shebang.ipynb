{
 "cells": [
  {
   "cell_type": "markdown",
   "metadata": {},
   "source": [
    "In Python, a line that starts with #! is called a \"shebang\" or \"hashbang.\" It is a special kind of comment that is used in the first line of a script to indicate the path to the interpreter that should be used to execute the script. The shebang is primarily associated with Unix-like operating systems.\n",
    "\n",
    "The general syntax: ```#!/path/to/python/interpreter```\n",
    "\n"
   ]
  },
  {
   "cell_type": "code",
   "execution_count": 9,
   "metadata": {},
   "outputs": [
    {
     "name": "stdout",
     "output_type": "stream",
     "text": [
      "cow\n",
      "Python version\n",
      "3.10.12 (main, Nov 20 2023, 15:14:05) [GCC 11.4.0]\n",
      "Version info.\n",
      "sys.version_info(major=3, minor=10, micro=12, releaselevel='final', serial=0)\n",
      "Python version\n",
      "3.10.12\n",
      "Location of Python interpreter: /home/arjun/AI_ENV/bin/python\n"
     ]
    }
   ],
   "source": [
    "#!/usr/bin/env python3\n",
    "print('cow')\n",
    "import sys\n",
    "\n",
    "print(\"Python version\")\n",
    "print(sys.version)\n",
    "print(\"Version info.\")\n",
    "print(sys.version_info)\n",
    "import platform\n",
    "\n",
    "print(\"Python version\")\n",
    "print(platform.python_version())\n",
    "\n",
    "import sys\n",
    "\n",
    "python_executable = sys.executable\n",
    "\n",
    "print(\"Location of Python interpreter:\", python_executable)\n"
   ]
  }
 ],
 "metadata": {
  "kernelspec": {
   "display_name": "AI_ENV",
   "language": "python",
   "name": "python3"
  },
  "language_info": {
   "codemirror_mode": {
    "name": "ipython",
    "version": 3
   },
   "file_extension": ".py",
   "mimetype": "text/x-python",
   "name": "python",
   "nbconvert_exporter": "python",
   "pygments_lexer": "ipython3",
   "version": "3.10.12"
  }
 },
 "nbformat": 4,
 "nbformat_minor": 2
}
