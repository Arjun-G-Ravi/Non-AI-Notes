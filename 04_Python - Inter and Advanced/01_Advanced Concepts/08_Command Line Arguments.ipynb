{
 "cells": [
  {
   "cell_type": "markdown",
   "metadata": {},
   "source": [
    "# Command Line Arguments\n",
    "Using sys module in python, we can get the command line arguments using argv\n",
    "argv is a list with the script file name as the first argument and all the command line arguments as the following elements."
   ]
  },
  {
   "cell_type": "markdown",
   "metadata": {},
   "source": [
    "https://www.youtube.com/watch?v=alSgAbyC7K8&list=PL7yh-TELLS1FuqLSjl5bgiQIEH25VEmIc&index=5"
   ]
  },
  {
   "cell_type": "code",
   "execution_count": 1,
   "metadata": {},
   "outputs": [
    {
     "name": "stdout",
     "output_type": "stream",
     "text": [
      "Script name: ['/home/arjun/AI_ENV/lib/python3.10/site-packages/ipykernel_launcher.py', '--f=/home/arjun/.local/share/jupyter/runtime/kernel-v2-50856SwFAyVpkK0kd.json']\n",
      "Arguments: ['--f=/home/arjun/.local/share/jupyter/runtime/kernel-v2-50856SwFAyVpkK0kd.json']\n"
     ]
    }
   ],
   "source": [
    "import sys\n",
    "\n",
    "# Returns the file name of the script. (This file) [not for ipynb]\n",
    "script_name = sys.argv\n",
    "\n",
    "# Returns all the arguments passed using command line\n",
    "arguments = sys.argv[1:]\n",
    "\n",
    "print(\"Script name:\", script_name)\n",
    "print(\"Arguments:\", arguments)"
   ]
  }
 ],
 "metadata": {
  "kernelspec": {
   "display_name": "AI_ENV",
   "language": "python",
   "name": "python3"
  },
  "language_info": {
   "codemirror_mode": {
    "name": "ipython",
    "version": 3
   },
   "file_extension": ".py",
   "mimetype": "text/x-python",
   "name": "python",
   "nbconvert_exporter": "python",
   "pygments_lexer": "ipython3",
   "version": "3.10.12"
  }
 },
 "nbformat": 4,
 "nbformat_minor": 2
}
