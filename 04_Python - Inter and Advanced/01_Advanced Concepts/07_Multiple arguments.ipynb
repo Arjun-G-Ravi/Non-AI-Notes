{
 "cells": [
  {
   "cell_type": "markdown",
   "metadata": {},
   "source": [
    "# Variable number of arguments\n",
    "\n",
    "Python functions can have variable number of parameters if you use *args and **kwargs. This will let us access the variable number of parameters inside the function as lists and dictionaries."
   ]
  },
  {
   "cell_type": "code",
   "execution_count": 2,
   "metadata": {},
   "outputs": [
    {
     "name": "stdout",
     "output_type": "stream",
     "text": [
      "('cow', 1, False, 'goat')\n",
      "{'arg1': 'banana', 'thanos': 'snapped'}\n"
     ]
    }
   ],
   "source": [
    "def func(*args, **kwargs):\n",
    "    print(args)\n",
    "    print(kwargs)\n",
    "    return\n",
    "\n",
    "func('cow', 1, False, 'goat', arg1 = 'banana', thanos='snapped')"
   ]
  }
 ],
 "metadata": {
  "kernelspec": {
   "display_name": "AI_ENV",
   "language": "python",
   "name": "python3"
  },
  "language_info": {
   "codemirror_mode": {
    "name": "ipython",
    "version": 3
   },
   "file_extension": ".py",
   "mimetype": "text/x-python",
   "name": "python",
   "nbconvert_exporter": "python",
   "pygments_lexer": "ipython3",
   "version": "3.10.12"
  }
 },
 "nbformat": 4,
 "nbformat_minor": 2
}
