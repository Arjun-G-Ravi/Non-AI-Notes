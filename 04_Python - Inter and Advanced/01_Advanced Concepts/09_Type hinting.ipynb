{
 "cells": [
  {
   "cell_type": "markdown",
   "metadata": {},
   "source": [
    "# Type Hinting"
   ]
  },
  {
   "cell_type": "code",
   "execution_count": 1,
   "metadata": {},
   "outputs": [],
   "source": [
    "def double(x:int) -> int:\n",
    "    return '2*x'"
   ]
  },
  {
   "cell_type": "code",
   "execution_count": 2,
   "metadata": {},
   "outputs": [
    {
     "name": "stdout",
     "output_type": "stream",
     "text": [
      "2*x\n"
     ]
    }
   ],
   "source": [
    "print(double('g'))\n",
    "# Here we gave in a str and returned out a str. But it DOES NOT CAUSE ANY ERROR\n",
    "    # This is because type hints are used for documentation purposes and static \n",
    "        # analysis tools rather than for strict runtime enforcement."
   ]
  },
  {
   "cell_type": "markdown",
   "metadata": {},
   "source": [
    "\n",
    "You cannot enforce type hints using an import statement in Python. Type hints are not enforced by the Python interpreter itself; they are primarily meant for documentation and static analysis. The enforcement of type hints is typically done using third-party tools like MyPy during development or as part of a continuous integration process."
   ]
  },
  {
   "cell_type": "markdown",
   "metadata": {},
   "source": [
    "To ensure type consistency, run the script with mypy instead of python3. This will raise error if there are type disparities.\n",
    "\n",
    "```mypy script.py```"
   ]
  },
  {
   "cell_type": "code",
   "execution_count": null,
   "metadata": {},
   "outputs": [],
   "source": []
  }
 ],
 "metadata": {
  "kernelspec": {
   "display_name": "AI_ENV",
   "language": "python",
   "name": "python3"
  },
  "language_info": {
   "codemirror_mode": {
    "name": "ipython",
    "version": 3
   },
   "file_extension": ".py",
   "mimetype": "text/x-python",
   "name": "python",
   "nbconvert_exporter": "python",
   "pygments_lexer": "ipython3",
   "version": "3.10.12"
  }
 },
 "nbformat": 4,
 "nbformat_minor": 2
}
