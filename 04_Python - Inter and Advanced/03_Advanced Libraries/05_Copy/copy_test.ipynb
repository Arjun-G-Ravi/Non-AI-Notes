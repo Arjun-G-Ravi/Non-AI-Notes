{
 "cells": [
  {
   "cell_type": "markdown",
   "metadata": {},
   "source": [
    "# Copy Library\n",
    "\n",
    "Copy will be required to make copies of mutable type data structure like lists."
   ]
  },
  {
   "cell_type": "markdown",
   "metadata": {},
   "source": [
    "### Shallow Copy:\n",
    "A shallow copy creates a new object, but it does not create new objects for the elements inside the original object. Instead, it copies references to the objects contained in the original."
   ]
  },
  {
   "cell_type": "code",
   "execution_count": 2,
   "metadata": {},
   "outputs": [
    {
     "name": "stdout",
     "output_type": "stream",
     "text": [
      "[1, ['X', 3], 4]\n",
      "['cow', ['X', 3], 4]\n"
     ]
    }
   ],
   "source": [
    "import copy\n",
    "\n",
    "original_list = [1, [2, 3], 4]\n",
    "shallow_copy_list = original_list.copy()\n",
    "\n",
    "shallow_copy_list[1][0] = 'X'  # Nested level doesn't create new copy\n",
    "shallow_copy_list[0] = 'cow' # First level creates copy\n",
    "\n",
    "print(original_list)       # Output: [1, ['X', 3], 4]\n",
    "print(shallow_copy_list)   # Output: [1, ['X', 3], 4]\n"
   ]
  },
  {
   "cell_type": "markdown",
   "metadata": {},
   "source": [
    "### Deep Copy:\n",
    "A deep copy, on the other hand, creates a new object and recursively copies all objects found in the original object. It creates new objects for the elements inside the original object."
   ]
  },
  {
   "cell_type": "code",
   "execution_count": 3,
   "metadata": {},
   "outputs": [
    {
     "name": "stdout",
     "output_type": "stream",
     "text": [
      "[1, [2, 3], 4]\n",
      "['cow', ['X', 3], 4]\n"
     ]
    }
   ],
   "source": [
    "from copy import deepcopy\n",
    "\n",
    "original_list = [1, [2, 3], 4]\n",
    "shallow_copy_list = deepcopy(original_list)\n",
    "\n",
    "shallow_copy_list[1][0] = 'X'  # Nested level doesn't create new copy\n",
    "shallow_copy_list[0] = 'cow' # First level creates copy\n",
    "\n",
    "print(original_list)       # Output: [1, ['X', 3], 4]\n",
    "print(shallow_copy_list)   # Output: [1, ['X', 3], 4]"
   ]
  }
 ],
 "metadata": {
  "kernelspec": {
   "display_name": "AI_ENV",
   "language": "python",
   "name": "python3"
  },
  "language_info": {
   "codemirror_mode": {
    "name": "ipython",
    "version": 3
   },
   "file_extension": ".py",
   "mimetype": "text/x-python",
   "name": "python",
   "nbconvert_exporter": "python",
   "pygments_lexer": "ipython3",
   "version": "3.10.12"
  }
 },
 "nbformat": 4,
 "nbformat_minor": 2
}
