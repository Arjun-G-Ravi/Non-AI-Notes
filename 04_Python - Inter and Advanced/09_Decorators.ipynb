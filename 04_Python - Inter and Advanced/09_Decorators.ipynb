{
 "cells": [
  {
   "cell_type": "markdown",
   "metadata": {},
   "source": [
    "# Decorators\n",
    "\n",
    "In Python, decorators are a powerful and flexible way to modify or enhance the behavior of functions or methods. They allow you to wrap one function with another function, essentially adding some functionality before or after the original function is called. Decorators are often used for tasks like logging, authentication, access control, and more."
   ]
  },
  {
   "cell_type": "code",
   "execution_count": 1,
   "metadata": {},
   "outputs": [],
   "source": [
    "from time import perf_counter"
   ]
  },
  {
   "cell_type": "markdown",
   "metadata": {},
   "source": [
    "Decorator"
   ]
  },
  {
   "cell_type": "code",
   "execution_count": 2,
   "metadata": {},
   "outputs": [],
   "source": [
    "def timer(func):\n",
    "    def wrapper(*args, **kwargs):  # *args, **kwargs lets us have any number of parameter in our function\n",
    "        start = perf_counter()\n",
    "        func(*args, **kwargs)\n",
    "        stop = perf_counter()\n",
    "        print(stop-start)\n",
    "    return wrapper"
   ]
  },
  {
   "cell_type": "code",
   "execution_count": 3,
   "metadata": {},
   "outputs": [
    {
     "name": "stdout",
     "output_type": "stream",
     "text": [
      "0.024990964000153326\n"
     ]
    }
   ],
   "source": [
    "@timer\n",
    "def looper(x):  # 1 parameter\n",
    "    for _ in range(int(1e6)):\n",
    "        x += 1\n",
    "looper(10)  "
   ]
  },
  {
   "cell_type": "code",
   "execution_count": 4,
   "metadata": {},
   "outputs": [
    {
     "name": "stdout",
     "output_type": "stream",
     "text": [
      "0.025971679999884145\n"
     ]
    }
   ],
   "source": [
    "@timer\n",
    "def looper2(x,y):  # 2 parameters\n",
    "    for _ in range(y):\n",
    "        x += 1\n",
    "looper2(10, int(1e6))"
   ]
  },
  {
   "cell_type": "markdown",
   "metadata": {},
   "source": [
    "# What are *args and **kwargs"
   ]
  },
  {
   "cell_type": "markdown",
   "metadata": {},
   "source": [
    "In Python, *args and **kwargs are special syntax for defining function parameters that allow you to work with variable numbers of positional arguments and keyword arguments, respectively. These are often used when you want to create flexible functions that can accept an arbitrary number of arguments."
   ]
  }
 ],
 "metadata": {
  "kernelspec": {
   "display_name": "AI_ENV",
   "language": "python",
   "name": "python3"
  },
  "language_info": {
   "codemirror_mode": {
    "name": "ipython",
    "version": 3
   },
   "file_extension": ".py",
   "mimetype": "text/x-python",
   "name": "python",
   "nbconvert_exporter": "python",
   "pygments_lexer": "ipython3",
   "version": "3.10.12"
  }
 },
 "nbformat": 4,
 "nbformat_minor": 2
}
