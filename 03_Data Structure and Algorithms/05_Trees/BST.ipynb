{
 "cells": [
  {
   "cell_type": "markdown",
   "metadata": {},
   "source": [
    "# 1. Definition"
   ]
  },
  {
   "cell_type": "code",
   "execution_count": 1,
   "metadata": {},
   "outputs": [
    {
     "name": "stdout",
     "output_type": "stream",
     "text": [
      "[BST Object] Val:25\n",
      "    - Left:[BST Object] Val:6\n",
      "        - Left:None\n",
      "        - Right:[BST Object] Val:23\n",
      "            - Left:[BST Object] Val:10\n",
      "                - Left:None\n",
      "                - Right:[BST Object] Val:15\n",
      "                    - Left:None\n",
      "                    - Right:None\n",
      "            - Right:None\n",
      "    - Right:[BST Object] Val:35\n",
      "        - Left:[BST Object] Val:32\n",
      "            - Left:None\n",
      "            - Right:None\n",
      "        - Right:[BST Object] Val:82\n",
      "            - Left:[BST Object] Val:37\n",
      "                - Left:None\n",
      "                - Right:None\n",
      "            - Right:None\n"
     ]
    }
   ],
   "source": [
    "class BST:\n",
    "    frontier = []\n",
    "    visited = []\n",
    "    def __init__(self,val):\n",
    "        self.val = val\n",
    "        self.left = None\n",
    "        self.right = None\n",
    "        self.parent = None\n",
    "\n",
    "    def _get_level(self):\n",
    "        level = 0\n",
    "        node =self\n",
    "        while node.parent:\n",
    "            node = node.parent\n",
    "            level += 1\n",
    "        return level\n",
    "    \n",
    "    def __repr__(self):\n",
    "        return f'[BST Object] Val:{self.val}\\n{(self._get_level()+1)*\"    \"}- Left:{self.left}\\n{(self._get_level()+1)*\"    \"}- Right:{self.right}'\n",
    "    \n",
    "    def add_element(self, val):\n",
    "        curent_node = self # root val at start\n",
    "        if curent_node.val == val:\n",
    "            return\n",
    "        \n",
    "        elif curent_node.val < val and self.right:\n",
    "            self.right.add_element(val)\n",
    "        elif curent_node.val < val:  # and not self.right\n",
    "            new_node =  BST(val)\n",
    "            new_node.parent = self\n",
    "            self.right = new_node\n",
    "        \n",
    "        elif curent_node.val > val and self.left:\n",
    "            self.left.add_element(val)\n",
    "        elif curent_node.val > val:  # and not self.left\n",
    "            new_node = BST(val)\n",
    "            new_node.parent = self\n",
    "            self.left = new_node\n",
    "        else:\n",
    "            print(\"Wrong place to be boy\")\n",
    "\n",
    "tree = BST(25)  # initiated with root\n",
    "\n",
    "elements = [6,23,10,35,82,37,15,25,32]\n",
    "for i in elements:\n",
    "    tree.add_element(i)\n",
    "print(tree)"
   ]
  },
  {
   "cell_type": "markdown",
   "metadata": {},
   "source": [
    "# 2. Traversal"
   ]
  },
  {
   "cell_type": "markdown",
   "metadata": {},
   "source": [
    "Pre fix DFS -> acts as sort for BST"
   ]
  },
  {
   "cell_type": "code",
   "execution_count": 2,
   "metadata": {},
   "outputs": [
    {
     "name": "stdout",
     "output_type": "stream",
     "text": [
      "6 10 15 23 25 32 35 37 82 "
     ]
    }
   ],
   "source": [
    "stack = []\n",
    "visited = []\n",
    "def pre_dfs(node):\n",
    "    if node.left and node.left.val not in visited:\n",
    "        stack.append(node)\n",
    "        pre_dfs(node.left)\n",
    "    elif (not node.left or node.left.val in visited) and not node.right : # leaf\n",
    "        print(node.val, end = ' ')\n",
    "        visited.append(node.val)\n",
    "        if stack:\n",
    "            pre_dfs(stack.pop())\n",
    "    else:\n",
    "        print(node.val, end = ' ')\n",
    "        visited.append(node.val)\n",
    "        pre_dfs(node.right)\n",
    "\n",
    "\n",
    "pre_dfs(tree)"
   ]
  },
  {
   "cell_type": "markdown",
   "metadata": {},
   "source": [
    "In fix DFS"
   ]
  },
  {
   "cell_type": "code",
   "execution_count": 3,
   "metadata": {},
   "outputs": [
    {
     "name": "stdout",
     "output_type": "stream",
     "text": [
      "25 6 23 10 15 35 32 82 37 "
     ]
    }
   ],
   "source": [
    "stack = []\n",
    "visited = []\n",
    "\n",
    "def infix(node):\n",
    "    if node.left and node.left not in visited and not node.right:\n",
    "        print(node.val, end = ' ')\n",
    "        infix(node.left)\n",
    "    elif node.left and node.left not in visited and node.right:\n",
    "        print(node.val, end = ' ')\n",
    "        stack.append(node.right)\n",
    "        infix(node.left)\n",
    "    elif not node.left and not node.right:  # a leaf\n",
    "        print(node.val, end = ' ')\n",
    "        if stack:\n",
    "            infix(stack.pop())\n",
    "    else:  # only right or left is visited\n",
    "        print(node.val, end = ' ')\n",
    "        infix(node.right)\n",
    "infix(tree)        "
   ]
  },
  {
   "cell_type": "markdown",
   "metadata": {},
   "source": [
    "Post fix DFS"
   ]
  },
  {
   "cell_type": "code",
   "execution_count": 4,
   "metadata": {},
   "outputs": [
    {
     "name": "stdout",
     "output_type": "stream",
     "text": [
      "15 10 23 6 32 37 82 35 25 "
     ]
    }
   ],
   "source": [
    "stack = []\n",
    "visited = []\n",
    "\n",
    "def postfix(node):\n",
    "    if (not node.right or node.right.val in visited) and (not node.left or node.left.val in visited):  # (almost) a leaf node\n",
    "        print(node.val, end=' ')\n",
    "        visited.append(node.val)\n",
    "        if stack:\n",
    "            postfix(stack.pop())\n",
    "\n",
    "    elif node.left and node.left.val not in visited and not node.right: # only left\n",
    "        stack.append(node)\n",
    "        postfix(node.left)\n",
    "\n",
    "    elif node.left and node.right: # both left and right\n",
    "        stack.append(node)\n",
    "        stack.append(node.right)\n",
    "        postfix(node.left)\n",
    "\n",
    "    else:\n",
    "        stack.append(node)\n",
    "        postfix(node.right)\n",
    "postfix(tree)"
   ]
  },
  {
   "cell_type": "markdown",
   "metadata": {},
   "source": [
    "BFS"
   ]
  },
  {
   "cell_type": "code",
   "execution_count": 5,
   "metadata": {},
   "outputs": [
    {
     "name": "stdout",
     "output_type": "stream",
     "text": [
      "25 35 82 37 32 6 23 10 15 "
     ]
    }
   ],
   "source": [
    "queue = []\n",
    "visited = []\n",
    "def BFS(node):\n",
    "    if (not node.left or node.left.val in visited) and (not node.right or node.right.val in visited):\n",
    "        print(node.val, end=' ')\n",
    "        visited.append(node.val)\n",
    "        if queue:\n",
    "            BFS(queue.pop(-1))\n",
    "\n",
    "    else:\n",
    "        print(node.val, end=' ')\n",
    "        visited.append(node.val)\n",
    "        if node.left and node.right:\n",
    "            queue.append(node.left)\n",
    "            queue.append(node.right)\n",
    "        elif node.left:\n",
    "            queue.append(node.left)\n",
    "        else:\n",
    "            queue.append(node.right) \n",
    "        if queue:\n",
    "            BFS(queue.pop(-1))\n",
    "BFS(tree)"
   ]
  },
  {
   "cell_type": "markdown",
   "metadata": {},
   "source": [
    "# 3.Deletion"
   ]
  },
  {
   "cell_type": "code",
   "execution_count": 32,
   "metadata": {},
   "outputs": [
    {
     "name": "stdout",
     "output_type": "stream",
     "text": [
      "[BST Object] Val:10\n",
      "                - Left:None\n",
      "                - Right:[BST Object] Val:15\n",
      "                    - Left:None\n",
      "                    - Right:None \n",
      "\n",
      " [BST Object] Val:23\n",
      "            - Left:[BST Object] Val:10\n",
      "                - Left:None\n",
      "                - Right:[BST Object] Val:15\n",
      "                    - Left:None\n",
      "                    - Right:None\n",
      "            - Right:None\n"
     ]
    }
   ],
   "source": [
    "def binary_search(tree_node, node_val, tree_node_parent=None):\n",
    "    if tree_node.val == node_val:\n",
    "        print(tree_node,'\\n\\n', tree_node_parent )\n",
    "        return tree_node, tree_node_parent \n",
    "    \n",
    "    elif tree_node.val > node_val:\n",
    "        binary_search(tree_node.left, node_val, tree_node)\n",
    "    elif tree_node.val < node_val:\n",
    "        binary_search(tree_node.right, node_val, tree_node)\n",
    "    else:   \n",
    "        print(tree_node)\n",
    "        return -1,-1\n",
    "binary_search(tree,10, None)"
   ]
  },
  {
   "cell_type": "code",
   "execution_count": 17,
   "metadata": {},
   "outputs": [
    {
     "ename": "TypeError",
     "evalue": "cannot unpack non-iterable NoneType object",
     "output_type": "error",
     "traceback": [
      "\u001b[0;31m---------------------------------------------------------------------------\u001b[0m",
      "\u001b[0;31mTypeError\u001b[0m                                 Traceback (most recent call last)",
      "\u001b[1;32m/home/arjun/Documents/GitHub/Non-AI-Notes/Data Structure and Algorithms/04_Trees/BST.ipynb Cell 14\u001b[0m line \u001b[0;36m5\n\u001b[1;32m      <a href='vscode-notebook-cell:/home/arjun/Documents/GitHub/Non-AI-Notes/Data%20Structure%20and%20Algorithms/04_Trees/BST.ipynb#X16sZmlsZQ%3D%3D?line=2'>3</a>\u001b[0m     \u001b[39mprint\u001b[39m(tree_node, tree_node_parent)\n\u001b[1;32m      <a href='vscode-notebook-cell:/home/arjun/Documents/GitHub/Non-AI-Notes/Data%20Structure%20and%20Algorithms/04_Trees/BST.ipynb#X16sZmlsZQ%3D%3D?line=3'>4</a>\u001b[0m     \u001b[39mpass\u001b[39;00m\n\u001b[0;32m----> <a href='vscode-notebook-cell:/home/arjun/Documents/GitHub/Non-AI-Notes/Data%20Structure%20and%20Algorithms/04_Trees/BST.ipynb#X16sZmlsZQ%3D%3D?line=4'>5</a>\u001b[0m delete_node(tree, \u001b[39m10\u001b[39;49m)\n",
      "\u001b[1;32m/home/arjun/Documents/GitHub/Non-AI-Notes/Data Structure and Algorithms/04_Trees/BST.ipynb Cell 14\u001b[0m line \u001b[0;36m2\n\u001b[1;32m      <a href='vscode-notebook-cell:/home/arjun/Documents/GitHub/Non-AI-Notes/Data%20Structure%20and%20Algorithms/04_Trees/BST.ipynb#X16sZmlsZQ%3D%3D?line=0'>1</a>\u001b[0m \u001b[39mdef\u001b[39;00m \u001b[39mdelete_node\u001b[39m(tree_node, node_val):\n\u001b[0;32m----> <a href='vscode-notebook-cell:/home/arjun/Documents/GitHub/Non-AI-Notes/Data%20Structure%20and%20Algorithms/04_Trees/BST.ipynb#X16sZmlsZQ%3D%3D?line=1'>2</a>\u001b[0m     tree_node, tree_node_parent \u001b[39m=\u001b[39m binary_search(tree_node, node_val)\n\u001b[1;32m      <a href='vscode-notebook-cell:/home/arjun/Documents/GitHub/Non-AI-Notes/Data%20Structure%20and%20Algorithms/04_Trees/BST.ipynb#X16sZmlsZQ%3D%3D?line=2'>3</a>\u001b[0m     \u001b[39mprint\u001b[39m(tree_node, tree_node_parent)\n\u001b[1;32m      <a href='vscode-notebook-cell:/home/arjun/Documents/GitHub/Non-AI-Notes/Data%20Structure%20and%20Algorithms/04_Trees/BST.ipynb#X16sZmlsZQ%3D%3D?line=3'>4</a>\u001b[0m     \u001b[39mpass\u001b[39;00m\n",
      "\u001b[0;31mTypeError\u001b[0m: cannot unpack non-iterable NoneType object"
     ]
    }
   ],
   "source": [
    "def delete_node(tree_node, node_val):\n",
    "    tree_node, tree_node_parent = binary_search(tree_node, node_val)\n",
    "    print(tree_node, tree_node_parent)\n",
    "    pass\n",
    "delete_node(tree, 10)"
   ]
  }
 ],
 "metadata": {
  "kernelspec": {
   "display_name": "NewPytorchEnv",
   "language": "python",
   "name": "python3"
  },
  "language_info": {
   "codemirror_mode": {
    "name": "ipython",
    "version": 3
   },
   "file_extension": ".py",
   "mimetype": "text/x-python",
   "name": "python",
   "nbconvert_exporter": "python",
   "pygments_lexer": "ipython3",
   "version": "3.10.12"
  },
  "orig_nbformat": 4
 },
 "nbformat": 4,
 "nbformat_minor": 2
}
