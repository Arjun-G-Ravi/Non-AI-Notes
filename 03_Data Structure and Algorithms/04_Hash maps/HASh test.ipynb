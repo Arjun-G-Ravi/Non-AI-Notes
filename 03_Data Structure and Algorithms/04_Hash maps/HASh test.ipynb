{
 "cells": [
  {
   "cell_type": "markdown",
   "metadata": {},
   "source": [
    "get() - not custom ;)"
   ]
  },
  {
   "cell_type": "code",
   "execution_count": 11,
   "metadata": {},
   "outputs": [
    {
     "name": "stdout",
     "output_type": "stream",
     "text": [
      "[1, 2, 3]\n",
      "0\n"
     ]
    }
   ],
   "source": [
    "map = {'a':[1,2,3]}\n",
    "print(map.get('a',0)) # Returns index of a if it exists, 0 if it doesn't\n",
    "print(map.get('b',0))  "
   ]
  },
  {
   "cell_type": "markdown",
   "metadata": {},
   "source": [
    "In practice, we just implement hash maps as python dictionaries"
   ]
  },
  {
   "cell_type": "code",
   "execution_count": 4,
   "metadata": {},
   "outputs": [],
   "source": [
    "from HashMap import Hash_Map"
   ]
  },
  {
   "cell_type": "code",
   "execution_count": 5,
   "metadata": {},
   "outputs": [
    {
     "name": "stdout",
     "output_type": "stream",
     "text": [
      "[None]\n",
      "[None]\n",
      "[['Dog', 104]]\n",
      "[None]\n",
      "[None]\n",
      "[['Goat', 102]]\n",
      "[None]\n",
      "[['Cow', 101], ['Elephant', 12422]]\n",
      "[['Snake', 1243]]\n",
      "[['Bat', 103]]\n"
     ]
    }
   ],
   "source": [
    "table = Hash_Map(10)\n",
    "table['Cow'] = 101\n",
    "table['Goat'] = 102\n",
    "table['Bat'] = 103\n",
    "table['Dog'] = 104\n",
    "table['Elephant'] = 1245\n",
    "table['Snake'] = 1243\n",
    "table['Elephant'] = 12422\n",
    "\n",
    "table.print_all()"
   ]
  },
  {
   "cell_type": "code",
   "execution_count": 6,
   "metadata": {},
   "outputs": [
    {
     "data": {
      "text/plain": [
       "102"
      ]
     },
     "execution_count": 6,
     "metadata": {},
     "output_type": "execute_result"
    }
   ],
   "source": [
    "table['Goat']"
   ]
  }
 ],
 "metadata": {
  "kernelspec": {
   "display_name": "NewPytorchEnv",
   "language": "python",
   "name": "python3"
  },
  "language_info": {
   "codemirror_mode": {
    "name": "ipython",
    "version": 3
   },
   "file_extension": ".py",
   "mimetype": "text/x-python",
   "name": "python",
   "nbconvert_exporter": "python",
   "pygments_lexer": "ipython3",
   "version": "3.10.6"
  },
  "orig_nbformat": 4
 },
 "nbformat": 4,
 "nbformat_minor": 2
}
