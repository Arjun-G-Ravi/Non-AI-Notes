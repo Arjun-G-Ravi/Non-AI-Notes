{
 "cells": [
  {
   "cell_type": "markdown",
   "metadata": {},
   "source": [
    "# Sorting\n",
    "Sorting is the process of arranging a data structure of elements into an order(ascending or descending). It is used as a good way to start learning algorithms."
   ]
  },
  {
   "cell_type": "markdown",
   "metadata": {},
   "source": [
    "# 1. Bubble Sort"
   ]
  },
  {
   "cell_type": "markdown",
   "metadata": {},
   "source": [
    "- Time complexity: O(n^2)\n",
    "- Space complexity: O(1) # The space complexity of any algorithm doesn't include the input array space."
   ]
  },
  {
   "cell_type": "code",
   "execution_count": 1,
   "metadata": {},
   "outputs": [
    {
     "name": "stdout",
     "output_type": "stream",
     "text": [
      "[-4, 2, 6, 9, 12, 17]\n"
     ]
    }
   ],
   "source": [
    "data = [6,-4,12,17,2,9]\n",
    "for i in range(len(data)):\n",
    "    for j in range(i+1, len(data)):\n",
    "        if data[i] > data[j]:\n",
    "            data[i], data[j] =data[j], data[i]\n",
    "print(data)"
   ]
  },
  {
   "cell_type": "markdown",
   "metadata": {},
   "source": [
    "# 2. Selection Sort"
   ]
  },
  {
   "cell_type": "markdown",
   "metadata": {},
   "source": [
    "- Intuitive and easy to implement\n",
    "- Time complexity: O(n^2)\n",
    "- Space complexity: O(1)"
   ]
  },
  {
   "cell_type": "code",
   "execution_count": 2,
   "metadata": {},
   "outputs": [
    {
     "name": "stdout",
     "output_type": "stream",
     "text": [
      "[-4, 2, 6, 9, 12, 17]\n"
     ]
    }
   ],
   "source": [
    "data = [6,-4,12,17,2,9]\n",
    "for i in range(len(data)):\n",
    "    min_index = i\n",
    "    for j in range(i+1, len(data)):\n",
    "        if data[j] < data[min_index]:\n",
    "            min_index = j\n",
    "    # we have the smallest element's index at min_index\n",
    "    data[i], data[min_index] = data[min_index], data[i]\n",
    "print(data)"
   ]
  },
  {
   "cell_type": "markdown",
   "metadata": {},
   "source": [
    "# 3. Insertion Sort"
   ]
  },
  {
   "cell_type": "markdown",
   "metadata": {},
   "source": [
    "It works by starting at the second element of the array and comparing it with the preceding element. If the current element is smaller, it is shifted to the left, creating a gap. Then, the next element is compared with the gap, and if necessary, it is shifted to fill the gap, and the process continues until the entire array is sorted.\n",
    "\n",
    "- Easy to code up\n",
    "- Works with almost linear time for partially sorted data\n",
    "- But too many unnecessery swaps and comparisons\n",
    "- Time complexity: O(n^2)\n",
    "- Space complexity: O(1)"
   ]
  },
  {
   "cell_type": "code",
   "execution_count": 10,
   "metadata": {},
   "outputs": [
    {
     "name": "stdout",
     "output_type": "stream",
     "text": [
      "[-4, 2, 6, 9, 12, 17]\n"
     ]
    }
   ],
   "source": [
    "data = [6,-4,12,17,2,9]\n",
    "for i in range(1,len(data)):\n",
    "    j = i\n",
    "    while data[j]<data[j-1] and j>0:\n",
    "        data[j], data[j-1] =  data[j-1], data[j]\n",
    "        j -=1\n",
    "print(data)"
   ]
  },
  {
   "cell_type": "markdown",
   "metadata": {},
   "source": [
    "# 4. Shell Sort"
   ]
  },
  {
   "cell_type": "markdown",
   "metadata": {},
   "source": [
    "- An improvement to **insertion sort**. This algortithm vastly reduces the comparisons and swaps needed in insertion sort.\n",
    "- Most of the sorting cases can be solved with a time complexity of O(n.logn). If the list is almost sorted, this can be closer to O(n)\n",
    "- The sorting is done with a gap factor, which starts with len//2 and ends with 1. Shell sort with gap 1 is the same as insertion sort\n",
    "- Time complexity: O(n^2)\n",
    "- Space complexity: O(1)"
   ]
  },
  {
   "cell_type": "code",
   "execution_count": 4,
   "metadata": {},
   "outputs": [
    {
     "data": {
      "text/plain": [
       "[-8, -4, 0, 0, 1, 2, 2, 3, 3, 4, 6, 6, 7, 8, 9, 12, 17, 34, 214]"
      ]
     },
     "execution_count": 4,
     "metadata": {},
     "output_type": "execute_result"
    }
   ],
   "source": [
    "data = [6,-4,12,17,2,9,3,4,7,0,1,34,-8,2,214,6,3,8,0]\n",
    "l = len(data)\n",
    "gap_start = l//2  # gap reduces from len(data)//2 to 1\n",
    "for gap in range(gap_start,0,-1):\n",
    "    for i in range(l - gap):\n",
    "        j = i\n",
    "        while j+gap < l and data[j] > data[j+gap]:\n",
    "            data[j], data[j+gap] =  data[j+gap], data[j]\n",
    "            j += gap\n",
    "data"
   ]
  },
  {
   "cell_type": "markdown",
   "metadata": {},
   "source": [
    "# 5. Merge Sort"
   ]
  },
  {
   "cell_type": "code",
   "execution_count": 5,
   "metadata": {},
   "outputs": [
    {
     "data": {
      "text/plain": [
       "[-8, -4, 0, 0, 1, 2, 2, 3, 3, 4, 6, 6, 7, 8, 9, 12, 17, 34, 214]"
      ]
     },
     "execution_count": 5,
     "metadata": {},
     "output_type": "execute_result"
    }
   ],
   "source": [
    "def merge_sort(arr, start, end):  # divide\n",
    "    if start < end:\n",
    "        mid = (start+end)//2  # arr[mid] belongs to l\n",
    "        merge_sort(arr, start, mid)\n",
    "        merge_sort(arr, mid+1, end)\n",
    "        merge(arr, start, mid, end)\n",
    "\n",
    "def merge(arr, start, mid, end):  # conquer\n",
    "    l, r = [], []\n",
    "\n",
    "    # Create l and r array\n",
    "    for i in arr[start:mid+1]:\n",
    "        l.append(i)\n",
    "    for i in arr[mid+1: end+1]:\n",
    "        r.append(i)\n",
    "    \n",
    "    i, j = 0, 0\n",
    "\n",
    "    for index in range(start, end+1):\n",
    "        if i >= len(l):\n",
    "            while j < len(r):\n",
    "                arr[index] = r[j]\n",
    "                index  += 1\n",
    "                j += 1\n",
    "            break\n",
    "\n",
    "        elif j >= len(r):\n",
    "            while i < len(l):\n",
    "                arr[index] = l[i]\n",
    "                index  += 1\n",
    "                i += 1\n",
    "            break\n",
    "\n",
    "        elif l[i] <= r[j]:\n",
    "            arr[index] = l[i]\n",
    "            i += 1\n",
    "        else:\n",
    "            arr[index] = r[j]\n",
    "            j += 1\n",
    "\n",
    "\n",
    "data = [6,-4,12,17,2,9,3,4,7,0,1,34,-8,2,214,6,3,8,0]\n",
    "merge_sort(data, 0, len(data)+1)\n",
    "data"
   ]
  },
  {
   "cell_type": "markdown",
   "metadata": {},
   "source": [
    "- Divide and conquer strategy\n",
    "- Time complexity: O(n.logn) # Same for all cases\n",
    "- Space complexity: O(logn) for stack space and O(n) for l+r\n"
   ]
  },
  {
   "cell_type": "markdown",
   "metadata": {},
   "source": [
    "# 6. Quick Sort"
   ]
  },
  {
   "cell_type": "code",
   "execution_count": 20,
   "metadata": {},
   "outputs": [
    {
     "data": {
      "text/plain": [
       "[-8, -4, 0, 0, 1, 2, 2, 3, 3, 4, 6, 6, 7, 8, 9, 12, 17, 34, 214]"
      ]
     },
     "execution_count": 20,
     "metadata": {},
     "output_type": "execute_result"
    }
   ],
   "source": [
    "def quick_sort(arr, low, high):    \n",
    "    if low >=high:\n",
    "        return\n",
    "    else:\n",
    "        pivot = arr[low]\n",
    "        p, q = low+1, high\n",
    "\n",
    "        while True:\n",
    "            while p<=high and arr[p] <= pivot:  # 2 nd'=' is optional\n",
    "                p+=1\n",
    "            while q>low and arr[q] >= pivot:  # 2 nd'=' is optional\n",
    "                q-=1\n",
    "            if p<q:\n",
    "                arr[p], arr[q] = arr[q], arr[p]\n",
    "            else:\n",
    "                break\n",
    "        \n",
    "        \n",
    "        arr[low], arr[q] = arr[q], arr[low]\n",
    "        quick_sort(arr, low, q-1)\n",
    "        quick_sort(arr, q+1, len(arr)-1)\n",
    "\n",
    "\n",
    "data = [6,-4,12,17,2,9,3,4,7,0,1,34,-8,2,214,6,3,8,0]\n",
    "quick_sort(data,0,len(data)-1)\n",
    "data"
   ]
  },
  {
   "cell_type": "markdown",
   "metadata": {},
   "source": [
    "- Divide and conquer strategy\n",
    "- Time complexity: O(n.logn) for best and avg case; O(n^2) for worst case\n",
    "- Space complexity: O()"
   ]
  },
  {
   "cell_type": "code",
   "execution_count": null,
   "metadata": {},
   "outputs": [
    {
     "name": "stdout",
     "output_type": "stream",
     "text": [
      "[2, 5, 6, 7, 8]\n"
     ]
    }
   ],
   "source": [
    "def quick_sort(arr, low, high):\n",
    "    if low < high:\n",
    "        pivot = arr[low]\n",
    "        p, q = low + 1, high\n",
    "\n",
    "        while True:\n",
    "            while p <= q and arr[p] <= pivot:\n",
    "                p += 1\n",
    "            while arr[q] >= pivot and q >= p:\n",
    "                q -= 1\n",
    "            if p < q:\n",
    "                arr[p], arr[q] = arr[q], arr[p]\n",
    "            else:\n",
    "                break\n",
    "\n",
    "        arr[low], arr[q] = arr[q], arr[low]\n",
    "\n",
    "        quick_sort(arr, low, q - 1)\n",
    "        quick_sort(arr, q + 1, high)\n",
    "\n",
    "def main_quick_sort(arr):\n",
    "    quick_sort(arr, 0, len(arr) - 1)\n",
    "\n",
    "data = [7, 6, 5, 2, 8]\n",
    "main_quick_sort(data)\n",
    "print(data)\n"
   ]
  }
 ],
 "metadata": {
  "kernelspec": {
   "display_name": "NewPytorchEnv",
   "language": "python",
   "name": "python3"
  },
  "language_info": {
   "codemirror_mode": {
    "name": "ipython",
    "version": 3
   },
   "file_extension": ".py",
   "mimetype": "text/x-python",
   "name": "python",
   "nbconvert_exporter": "python",
   "pygments_lexer": "ipython3",
   "version": "3.10.12"
  },
  "orig_nbformat": 4
 },
 "nbformat": 4,
 "nbformat_minor": 2
}
