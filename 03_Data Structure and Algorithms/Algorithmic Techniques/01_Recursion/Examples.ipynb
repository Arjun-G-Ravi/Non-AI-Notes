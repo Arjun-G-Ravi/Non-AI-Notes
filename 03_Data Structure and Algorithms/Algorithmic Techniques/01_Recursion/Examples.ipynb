{
 "cells": [
  {
   "cell_type": "markdown",
   "metadata": {},
   "source": [
    "# String"
   ]
  },
  {
   "cell_type": "markdown",
   "metadata": {},
   "source": [
    "1. Reverse String"
   ]
  },
  {
   "cell_type": "code",
   "execution_count": 1,
   "metadata": {},
   "outputs": [
    {
     "data": {
      "text/plain": [
       "'woC'"
      ]
     },
     "execution_count": 1,
     "metadata": {},
     "output_type": "execute_result"
    }
   ],
   "source": [
    "def rev(s):\n",
    "    if s == '':\n",
    "        return ''\n",
    "    return rev(s[1:]) + s[0]\n",
    "    \n",
    "rev(\"Cow\")"
   ]
  },
  {
   "cell_type": "markdown",
   "metadata": {},
   "source": [
    "2. Palindrome"
   ]
  },
  {
   "cell_type": "code",
   "execution_count": 7,
   "metadata": {},
   "outputs": [
    {
     "data": {
      "text/plain": [
       "(True, False)"
      ]
     },
     "execution_count": 7,
     "metadata": {},
     "output_type": "execute_result"
    }
   ],
   "source": [
    "def pal(s):\n",
    "    if len(s) < 2:\n",
    "        return True\n",
    "    if s[0] == s[-1]:\n",
    "        return pal(s[1:len(s)-1])\n",
    "    return False\n",
    "\n",
    "pal('malayalam'), pal('cow')"
   ]
  },
  {
   "cell_type": "markdown",
   "metadata": {},
   "source": [
    "# Numbers"
   ]
  },
  {
   "cell_type": "markdown",
   "metadata": {},
   "source": [
    "3. Decimal to Binary"
   ]
  },
  {
   "cell_type": "code",
   "execution_count": 3,
   "metadata": {},
   "outputs": [
    {
     "data": {
      "text/plain": [
       "'1010'"
      ]
     },
     "execution_count": 3,
     "metadata": {},
     "output_type": "execute_result"
    }
   ],
   "source": [
    "def dec2bin(n):\n",
    "    if n//2 == 0:\n",
    "        return str(n%2)\n",
    "    \n",
    "    return dec2bin(n//2) + str(n%2)\n",
    "\n",
    "dec2bin(10)"
   ]
  },
  {
   "cell_type": "markdown",
   "metadata": {},
   "source": [
    "4. Sum of natural numbers"
   ]
  },
  {
   "cell_type": "code",
   "execution_count": 4,
   "metadata": {},
   "outputs": [
    {
     "data": {
      "text/plain": [
       "55"
      ]
     },
     "execution_count": 4,
     "metadata": {},
     "output_type": "execute_result"
    }
   ],
   "source": [
    "def sum(n):\n",
    "    if n == 1:\n",
    "        return 1\n",
    "    return sum(n-1) + n\n",
    "\n",
    "sum(10)"
   ]
  },
  {
   "cell_type": "markdown",
   "metadata": {
    "tags": []
   },
   "source": [
    "5. Fibanocci"
   ]
  },
  {
   "cell_type": "code",
   "execution_count": 9,
   "metadata": {},
   "outputs": [
    {
     "name": "stdout",
     "output_type": "stream",
     "text": [
      "0 1 1 2 3 5 8 13 21 "
     ]
    }
   ],
   "source": [
    "def fib(n):\n",
    "    if n == 1: return 0\n",
    "    if n == 2: return 1\n",
    "    return fib(n-1) + fib(n-2) \n",
    "\n",
    "for i in range(1,10):\n",
    "    print(fib(i), end=' ')"
   ]
  },
  {
   "cell_type": "markdown",
   "metadata": {},
   "source": [
    "6. Binary Search"
   ]
  },
  {
   "cell_type": "code",
   "execution_count": 6,
   "metadata": {},
   "outputs": [
    {
     "name": "stdout",
     "output_type": "stream",
     "text": [
      "3\n"
     ]
    }
   ],
   "source": [
    "def bin_search(arr,n):\n",
    "    mid = len(arr)//2\n",
    "    if arr[mid] == n:\n",
    "        return mid\n",
    "    if n > arr[mid]:\n",
    "        return bin_search(arr[mid+1:], n) + mid + 1\n",
    "    else:\n",
    "        return bin_search(arr[:mid], n)\n",
    "print(bin_search([1,2,3,4,5, 12, 34,221, 567],4))"
   ]
  }
 ],
 "metadata": {
  "kernelspec": {
   "display_name": "AI_ENV",
   "language": "python",
   "name": "python3"
  },
  "language_info": {
   "codemirror_mode": {
    "name": "ipython",
    "version": 3
   },
   "file_extension": ".py",
   "mimetype": "text/x-python",
   "name": "python",
   "nbconvert_exporter": "python",
   "pygments_lexer": "ipython3",
   "version": "3.10.12"
  }
 },
 "nbformat": 4,
 "nbformat_minor": 2
}
