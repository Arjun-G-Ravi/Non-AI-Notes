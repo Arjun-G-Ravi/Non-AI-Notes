{
 "cells": [
  {
   "cell_type": "code",
   "execution_count": 1,
   "metadata": {},
   "outputs": [],
   "source": [
    "import pandas as pd\n",
    "import numpy as np\n",
    "ds = pd.read_csv('./PlayTennis.csv')"
   ]
  },
  {
   "cell_type": "code",
   "execution_count": 3,
   "metadata": {},
   "outputs": [],
   "source": [
    "def calc_total_entropy(dataset, label, class_list):\n",
    "    total_row = dataset.shape[0]\n",
    "    total_entr = 0\n",
    "    for c in class_list: \n",
    "        total_class_count = dataset[dataset[label] == c].shape[0]\n",
    "        total_class_entr = - (total_class_count/total_row)*np.log2(total_class_count/total_row)\n",
    "        total_entr += total_class_entr\n",
    "    return total_entr"
   ]
  },
  {
   "cell_type": "code",
   "execution_count": 4,
   "metadata": {},
   "outputs": [],
   "source": [
    "def calc_entropy(feature_value_data, label, class_list): # defined for a class in a feature\n",
    "    class_count = feature_value_data.shape[0]\n",
    "    entropy = 0\n",
    "    for c in class_list:\n",
    "        label_class_count = feature_value_data[feature_value_data[label] == c].shape[0] \n",
    "        entropy_class = 0\n",
    "        if label_class_count != 0:\n",
    "            probability_class = label_class_count/class_count \n",
    "            entropy_class = - probability_class * np.log2(probability_class)  \n",
    "        entropy += entropy_class\n",
    "    return entropy"
   ]
  },
  {
   "cell_type": "code",
   "execution_count": 5,
   "metadata": {},
   "outputs": [],
   "source": [
    "def calc_info_gain(feature_name, dataset, label, class_list):\n",
    "    feature_value_list = dataset[feature_name].unique() \n",
    "    total_row = dataset.shape[0]\n",
    "    feature_info = 0.0\n",
    "    for feature_value in feature_value_list:\n",
    "        feature_value_data = dataset[dataset[feature_name] == feature_value]\n",
    "        feature_value_count = feature_value_data.shape[0]\n",
    "        feature_value_entropy = calc_entropy(feature_value_data, label, class_list) \n",
    "        feature_value_probability = feature_value_count/total_row\n",
    "        feature_info += feature_value_probability * feature_value_entropy \n",
    "    return calc_total_entropy(dataset, label, class_list) - feature_info "
   ]
  },
  {
   "cell_type": "code",
   "execution_count": 6,
   "metadata": {},
   "outputs": [],
   "source": [
    "def find_most_informative_feature(dataset, label, class_list):\n",
    "    feature_list = dataset.columns.drop(label) \n",
    "    max_info_gain = -1\n",
    "    max_info_feature = None\n",
    "    for feature in feature_list:  \n",
    "        feature_info_gain = calc_info_gain(feature, dataset, label, class_list)\n",
    "        if max_info_gain < feature_info_gain:\n",
    "            max_info_gain = feature_info_gain\n",
    "            max_info_feature = feature\n",
    "    return max_info_feature"
   ]
  },
  {
   "cell_type": "code",
   "execution_count": 7,
   "metadata": {},
   "outputs": [],
   "source": [
    "def generate_sub_tree(feature_name, dataset, label, class_list):\n",
    "    feature_value_count_dict = dataset[feature_name].value_counts(sort=False).to_dict() \n",
    "    tree = {}  \n",
    "    for feature_value, count in feature_value_count_dict.items():\n",
    "        feature_value_data = dataset[dataset[feature_name] == feature_value]\n",
    "        assigned_to_node = False  \n",
    "        for c in class_list:\n",
    "            class_count = feature_value_data[feature_value_data[label] == c].shape[0]\n",
    "            if class_count == count:\n",
    "                tree[feature_value] = c\n",
    "                dataset = dataset[dataset[feature_name] != feature_value]\n",
    "                assigned_to_node = True\n",
    "        if not assigned_to_node:\n",
    "            tree[feature_value] = \"?\"\n",
    "    return tree, dataset"
   ]
  },
  {
   "cell_type": "code",
   "execution_count": 8,
   "metadata": {},
   "outputs": [],
   "source": [
    "def make_tree(root, prev_feature_value, dataset, label, class_list):\n",
    "    if dataset.shape[0] != 0: \n",
    "        max_info_feature = find_most_informative_feature(dataset, label, class_list)\n",
    "        tree, dataset = generate_sub_tree(max_info_feature, dataset, label, class_list) \n",
    "        next_root = None\n",
    "        if prev_feature_value != None: \n",
    "            root[prev_feature_value] = dict()\n",
    "            root[prev_feature_value][max_info_feature] = tree\n",
    "            next_root = root[prev_feature_value][max_info_feature]\n",
    "        else: \n",
    "            root[max_info_feature] = tree\n",
    "            next_root = root[max_info_feature]\n",
    "        \n",
    "        for node, branch in list(next_root.items()):\n",
    "            if branch == \"?\":\n",
    "                feature_value_data = dataset[dataset[max_info_feature] == node] \n",
    "                make_tree(next_root, node, feature_value_data, label, class_list)"
   ]
  },
  {
   "cell_type": "code",
   "execution_count": 9,
   "metadata": {},
   "outputs": [],
   "source": [
    "def id3(dataset_m, label):\n",
    "    dataset = dataset_m.copy() \n",
    "    tree = {} \n",
    "    class_list = dataset[label].unique() \n",
    "    make_tree(tree, None, dataset, label, class_list) \n",
    "    return tree\n",
    "tree = id3(ds, 'Play Tennis')"
   ]
  },
  {
   "cell_type": "code",
   "execution_count": 11,
   "metadata": {},
   "outputs": [],
   "source": [
    "def predict(tree, instance):\n",
    "    if not isinstance(tree, dict):\n",
    "        return tree\n",
    "    else:\n",
    "        root_node = next(iter(tree)) \n",
    "        feature_value = instance[root_node] \n",
    "        if feature_value in tree[root_node]: \n",
    "            return predict(tree[root_node][feature_value], instance) \n",
    "        else:\n",
    "            return None"
   ]
  },
  {
   "cell_type": "code",
   "execution_count": 12,
   "metadata": {},
   "outputs": [],
   "source": [
    "def evaluate(tree, dataset, label):\n",
    "    correct_predict = 0\n",
    "    for index, row in dataset.iterrows(): \n",
    "        result = predict(tree, dataset.iloc[index])\n",
    "        if result == dataset[label].iloc[index]: \n",
    "            correct_predict += 1 \n",
    "    accuracy = correct_predict / (len(dataset)) \n",
    "    return accuracy\n",
    "evaluate(tree, ds, 'Play Tennis')"
   ]
  }
 ],
 "metadata": {
  "kernelspec": {
   "display_name": "AI_ENV",
   "language": "python",
   "name": "python3"
  },
  "language_info": {
   "codemirror_mode": {
    "name": "ipython",
    "version": 3
   },
   "file_extension": ".py",
   "mimetype": "text/x-python",
   "name": "python",
   "nbconvert_exporter": "python",
   "pygments_lexer": "ipython3",
   "version": "3.10.12"
  }
 },
 "nbformat": 4,
 "nbformat_minor": 2
}
