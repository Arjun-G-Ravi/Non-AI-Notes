{
 "cells": [
  {
   "cell_type": "markdown",
   "metadata": {},
   "source": [
    "# Lambda\n",
    "Lambda functions, also known as anonymous functions or lambda expressions, are a feature in Python that allows you to create small, unnamed, and inline functions. Lambda functions are typically used for short, simple operations and are defined using the lambda keyword. They are particularly useful when you need a small function for a short period and don't want to define a separate named function.\n",
    "```\n",
    "                    lambda arguments: expression\n",
    "```"
   ]
  },
  {
   "cell_type": "code",
   "execution_count": null,
   "metadata": {},
   "outputs": [],
   "source": []
  },
  {
   "cell_type": "code",
   "execution_count": null,
   "metadata": {},
   "outputs": [],
   "source": []
  }
 ],
 "metadata": {
  "language_info": {
   "name": "python"
  }
 },
 "nbformat": 4,
 "nbformat_minor": 2
}
