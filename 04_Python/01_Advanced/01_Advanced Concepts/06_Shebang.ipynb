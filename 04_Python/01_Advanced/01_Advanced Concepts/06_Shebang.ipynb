{
 "cells": [
  {
   "cell_type": "markdown",
   "metadata": {},
   "source": [
    "# Shebang"
   ]
  },
  {
   "cell_type": "markdown",
   "metadata": {},
   "source": [
    "In Python, a line that starts with #! is called a \"shebang\" or \"hashbang.\" It is a special kind of comment that is used in the first line of a script to indicate the path to the interpreter that should be used to execute the script. The shebang is primarily associated with Unix-like operating systems.\n",
    "\n",
    "The general syntax: ```#!/path/to/python/interpreter```\n",
    "\n"
   ]
  },
  {
   "cell_type": "code",
   "execution_count": 12,
   "metadata": {},
   "outputs": [
    {
     "name": "stdout",
     "output_type": "stream",
     "text": [
      "cow\n",
      "Location of Python interpreter: /home/arjun/AI_ENV/bin/python\n"
     ]
    }
   ],
   "source": [
    "#!/usr/bin/env python3\n",
    "print('cow')\n",
    "import sys\n",
    "\n",
    "\n",
    "print(\"Location of Python interpreter:\", sys.executable)\n"
   ]
  },
  {
   "cell_type": "markdown",
   "metadata": {},
   "source": [
    "## Dont know how this works, but will come back after learning linux and bash"
   ]
  },
  {
   "cell_type": "markdown",
   "metadata": {},
   "source": [
    "https://www.youtube.com/watch?v=g3VxRdtlMoE"
   ]
  }
 ],
 "metadata": {
  "kernelspec": {
   "display_name": "AI_ENV",
   "language": "python",
   "name": "python3"
  },
  "language_info": {
   "codemirror_mode": {
    "name": "ipython",
    "version": 3
   },
   "file_extension": ".py",
   "mimetype": "text/x-python",
   "name": "python",
   "nbconvert_exporter": "python",
   "pygments_lexer": "ipython3",
   "version": "3.10.12"
  }
 },
 "nbformat": 4,
 "nbformat_minor": 2
}
