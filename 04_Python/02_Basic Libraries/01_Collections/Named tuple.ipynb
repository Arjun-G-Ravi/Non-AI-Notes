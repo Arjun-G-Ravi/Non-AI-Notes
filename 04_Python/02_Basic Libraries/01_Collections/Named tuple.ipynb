{
 "cells": [
  {
   "cell_type": "markdown",
   "metadata": {},
   "source": [
    "# Named Tuple - from collections"
   ]
  },
  {
   "cell_type": "markdown",
   "metadata": {},
   "source": [
    "In Python, a named tuple is a subclass of a tuple. It is a part of the collections module and provides a way to create simple classes for storing and accessing data, similar to a regular tuple or a class, but with named fields for more readability and self-documentation. It kind of works like classes. Named tuples are useful when you want lightweight, immutable data structures with named fields. They provide a more readable and self-documenting alternative to using regular tuples or classes for such scenarios."
   ]
  },
  {
   "cell_type": "code",
   "execution_count": 1,
   "metadata": {},
   "outputs": [
    {
     "name": "stdout",
     "output_type": "stream",
     "text": [
      "Point(x=1, y=2, z=3)\n"
     ]
    }
   ],
   "source": [
    "from collections import  namedtuple\n",
    "\n",
    "Point = namedtuple('Point', 'x y z')\n",
    "obj1 = Point(1,2,3)\n",
    "print(obj1)"
   ]
  },
  {
   "cell_type": "code",
   "execution_count": 2,
   "metadata": {},
   "outputs": [
    {
     "data": {
      "text/plain": [
       "1"
      ]
     },
     "execution_count": 2,
     "metadata": {},
     "output_type": "execute_result"
    }
   ],
   "source": [
    "obj1.x"
   ]
  }
 ],
 "metadata": {
  "kernelspec": {
   "display_name": "AI_ENV",
   "language": "python",
   "name": "python3"
  },
  "language_info": {
   "codemirror_mode": {
    "name": "ipython",
    "version": 3
   },
   "file_extension": ".py",
   "mimetype": "text/x-python",
   "name": "python",
   "nbconvert_exporter": "python",
   "pygments_lexer": "ipython3",
   "version": "3.10.12"
  }
 },
 "nbformat": 4,
 "nbformat_minor": 2
}
