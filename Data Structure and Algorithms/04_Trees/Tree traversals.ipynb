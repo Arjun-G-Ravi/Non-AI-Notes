{
 "cells": [
  {
   "cell_type": "markdown",
   "metadata": {},
   "source": [
    "Binary Search Tree defenition"
   ]
  },
  {
   "cell_type": "code",
   "execution_count": 14,
   "metadata": {},
   "outputs": [
    {
     "name": "stdout",
     "output_type": "stream",
     "text": [
      "[BST Object] Val:10\n",
      "    - Left:[BST Object] Val:3\n",
      "        - Left:None\n",
      "        - Right:[BST Object] Val:8\n",
      "            - Left:[BST Object] Val:6\n",
      "                - Left:None\n",
      "                - Right:None\n",
      "            - Right:None\n",
      "    - Right:[BST Object] Val:18\n",
      "        - Left:[BST Object] Val:17\n",
      "            - Left:[BST Object] Val:11\n",
      "                - Left:None\n",
      "                - Right:None\n",
      "            - Right:None\n",
      "        - Right:[BST Object] Val:24\n",
      "            - Left:None\n",
      "            - Right:[BST Object] Val:32\n",
      "                - Left:None\n",
      "                - Right:[BST Object] Val:56\n",
      "                    - Left:[BST Object] Val:33\n",
      "                        - Left:None\n",
      "                        - Right:None\n",
      "                    - Right:None\n"
     ]
    }
   ],
   "source": [
    "class BST:\n",
    "    frontier = []\n",
    "    visited = []\n",
    "    def __init__(self,val):\n",
    "        self.val = val\n",
    "        self.left = None\n",
    "        self.right = None\n",
    "        self.parent = None\n",
    "\n",
    "    def _get_level(self):\n",
    "        level = 0\n",
    "        node =self\n",
    "        while node.parent:\n",
    "            node = node.parent\n",
    "            level += 1\n",
    "        return level\n",
    "    \n",
    "    def __repr__(self):\n",
    "        return f'[BST Object] Val:{self.val}\\n{(self._get_level()+1)*\"    \"}- Left:{self.left}\\n{(self._get_level()+1)*\"    \"}- Right:{self.right}'\n",
    "    \n",
    "    def add_element(self, val):\n",
    "        curent_node = self # root val at start\n",
    "        if curent_node.val == val:\n",
    "            return\n",
    "        \n",
    "        elif curent_node.val < val and self.right:\n",
    "            self.right.add_element(val)\n",
    "        elif curent_node.val < val:  # and not self.right\n",
    "            new_node =  BST(val)\n",
    "            new_node.parent = self\n",
    "            self.right = new_node\n",
    "        \n",
    "        elif curent_node.val > val and self.left:\n",
    "            self.left.add_element(val)\n",
    "        elif curent_node.val > val:  # and not self.left\n",
    "            new_node = BST(val)\n",
    "            new_node.parent = self\n",
    "            self.left = new_node\n",
    "        else:\n",
    "            print(\"Wrong place to be boy\")\n",
    "\n",
    "tree = BST(10)  # initiated with root\n",
    "\n",
    "elements = [18,24,3,3,8,17,32,11,6,56,33]\n",
    "for i in elements:\n",
    "    tree.add_element(i)\n",
    "print(tree)"
   ]
  },
  {
   "cell_type": "markdown",
   "metadata": {},
   "source": [
    "Pre fix DFS"
   ]
  },
  {
   "cell_type": "code",
   "execution_count": 18,
   "metadata": {},
   "outputs": [
    {
     "name": "stdout",
     "output_type": "stream",
     "text": [
      "3 6 8 10 11 17 18 24 32 33 56 "
     ]
    }
   ],
   "source": [
    "stack = []\n",
    "visited = []\n",
    "def pre_dfs(node):\n",
    "    if node.left and node.left.val not in visited:\n",
    "        stack.append(node)\n",
    "        pre_dfs(node.left)\n",
    "    elif (not node.left or node.left.val in visited) and not node.right : # leaf\n",
    "        print(node.val, end = ' ')\n",
    "        visited.append(node.val)\n",
    "        if stack:\n",
    "            pre_dfs(stack.pop())\n",
    "    else:\n",
    "        print(node.val, end = ' ')\n",
    "        visited.append(node.val)\n",
    "        pre_dfs(node.right)\n",
    "\n",
    "\n",
    "pre_dfs(tree)"
   ]
  },
  {
   "cell_type": "markdown",
   "metadata": {},
   "source": [
    "In fix DFS"
   ]
  },
  {
   "cell_type": "code",
   "execution_count": null,
   "metadata": {},
   "outputs": [],
   "source": []
  },
  {
   "cell_type": "markdown",
   "metadata": {},
   "source": [
    "Post fix DFS"
   ]
  },
  {
   "cell_type": "code",
   "execution_count": null,
   "metadata": {},
   "outputs": [],
   "source": []
  },
  {
   "cell_type": "markdown",
   "metadata": {},
   "source": [
    "BFS"
   ]
  },
  {
   "cell_type": "code",
   "execution_count": null,
   "metadata": {},
   "outputs": [],
   "source": []
  }
 ],
 "metadata": {
  "kernelspec": {
   "display_name": "NewPytorchEnv",
   "language": "python",
   "name": "python3"
  },
  "language_info": {
   "codemirror_mode": {
    "name": "ipython",
    "version": 3
   },
   "file_extension": ".py",
   "mimetype": "text/x-python",
   "name": "python",
   "nbconvert_exporter": "python",
   "pygments_lexer": "ipython3",
   "version": "3.10.12"
  },
  "orig_nbformat": 4
 },
 "nbformat": 4,
 "nbformat_minor": 2
}
