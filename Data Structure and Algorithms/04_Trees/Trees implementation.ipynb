{
 "cells": [
  {
   "cell_type": "markdown",
   "metadata": {},
   "source": [
    "1. Tree Data structure implementation"
   ]
  },
  {
   "cell_type": "code",
   "execution_count": 1,
   "metadata": {},
   "outputs": [
    {
     "data": {
      "text/plain": [
       "<Tree obj:Val=5, Children=[<Tree obj:Val=4, Children=[<Tree obj:Val=3, Children=[]], <Tree obj:Val=10, Children=[<Tree obj:Val=6, Children=[], <Tree obj:Val=1, Children=[<Tree obj:Val=100, Children=[]]]]"
      ]
     },
     "execution_count": 1,
     "metadata": {},
     "output_type": "execute_result"
    }
   ],
   "source": [
    "class Tree:\n",
    "    def __init__(self, val, children=[]):\n",
    "        self.val = val\n",
    "        self.children = children\n",
    "\n",
    "    def __repr__(self):\n",
    "        return f'<Tree obj:Val={self.val}, Children={self.children}'\n",
    "tree = Tree(5,[Tree(4,[Tree(3)]), Tree(10,[Tree(6), Tree(1,[Tree(100)])])])\n",
    "tree"
   ]
  },
  {
   "cell_type": "markdown",
   "metadata": {},
   "source": [
    "2. Binary Tree implementation"
   ]
  },
  {
   "cell_type": "code",
   "execution_count": 2,
   "metadata": {},
   "outputs": [
    {
     "data": {
      "text/plain": [
       "[BinaryTree Object] Val:5\n",
       "    - Left:[BinaryTree Object] Val:3\n",
       "        - Left:[BinaryTree Object] Val:2\n",
       "            - Left:None\n",
       "            - Right:[BinaryTree Object] Val:1\n",
       "                - Left:None\n",
       "                - Right:None\n",
       "        - Right:None\n",
       "    - Right:[BinaryTree Object] Val:5\n",
       "        - Left:[BinaryTree Object] Val:0\n",
       "            - Left:None\n",
       "            - Right:None\n",
       "        - Right:None"
      ]
     },
     "execution_count": 2,
     "metadata": {},
     "output_type": "execute_result"
    }
   ],
   "source": [
    "class BinaryTree:\n",
    "    def __init__(self,val):\n",
    "        self.val = val\n",
    "        self.left = None\n",
    "        self.right = None\n",
    "        self.parent = None\n",
    "\n",
    "    def _get_level(self):\n",
    "        level = 0\n",
    "        node =self\n",
    "        while node.parent:\n",
    "            node = node.parent\n",
    "            level += 1\n",
    "        return level\n",
    "    \n",
    "    def __repr__(self):\n",
    "        return f'[BinaryTree Object] Val:{self.val}\\n{(self._get_level()+1)*\"    \"}- Left:{self.left}\\n{(self._get_level()+1)*\"    \"}- Right:{self.right}'\n",
    "    \n",
    "    def add_left(self, val):\n",
    "        self.left = BinaryTree(val)\n",
    "        self.left.parent = self\n",
    "\n",
    "    def add_right(self, val):\n",
    "        self.right = BinaryTree(val)\n",
    "        self.right.parent = self\n",
    "\n",
    "root = BinaryTree(5)\n",
    "root.add_left(3)\n",
    "root.add_right(5)\n",
    "root.left.add_left(2)\n",
    "root.right.add_left(0)\n",
    "root.left.left.add_right(1)\n",
    "root"
   ]
  },
  {
   "cell_type": "markdown",
   "metadata": {},
   "source": [
    "3. Binary Search Tree implementation"
   ]
  },
  {
   "cell_type": "code",
   "execution_count": 24,
   "metadata": {},
   "outputs": [
    {
     "data": {
      "text/plain": [
       "[BST Object] Val:5\n",
       "    - Left:[BST Object] Val:4\n",
       "        - Left:[BST Object] Val:1\n",
       "            - Left:[BST Object] Val:0\n",
       "                - Left:None\n",
       "                - Right:None\n",
       "            - Right:[BST Object] Val:3\n",
       "                - Left:None\n",
       "                - Right:None\n",
       "        - Right:None\n",
       "    - Right:[BST Object] Val:32\n",
       "        - Left:[BST Object] Val:6\n",
       "            - Left:None\n",
       "            - Right:[BST Object] Val:10\n",
       "                - Left:[BST Object] Val:7\n",
       "                    - Left:None\n",
       "                    - Right:None\n",
       "                - Right:[BST Object] Val:16\n",
       "                    - Left:[BST Object] Val:15\n",
       "                        - Left:None\n",
       "                        - Right:None\n",
       "                    - Right:None\n",
       "        - Right:None"
      ]
     },
     "execution_count": 24,
     "metadata": {},
     "output_type": "execute_result"
    }
   ],
   "source": [
    "class BST:\n",
    "    def __init__(self,val):\n",
    "        self.val = val\n",
    "        self.left = None\n",
    "        self.right = None\n",
    "        self.parent = None\n",
    "\n",
    "    def _get_level(self):\n",
    "        level = 0\n",
    "        node =self\n",
    "        while node.parent:\n",
    "            node = node.parent\n",
    "            level += 1\n",
    "        return level\n",
    "    \n",
    "    def __repr__(self):\n",
    "        return f'[BST Object] Val:{self.val}\\n{(self._get_level()+1)*\"    \"}- Left:{self.left}\\n{(self._get_level()+1)*\"    \"}- Right:{self.right}'\n",
    "    \n",
    "    def add_element(self, val):\n",
    "        curent_node = self # root val at start\n",
    "        if curent_node.val == val:\n",
    "            return\n",
    "        \n",
    "        elif curent_node.val < val and self.right:\n",
    "            self.right.add_element(val)\n",
    "        elif curent_node.val < val:  # and not self.right\n",
    "            new_node =  BST(val)\n",
    "            new_node.parent = self\n",
    "            self.right = new_node\n",
    "        \n",
    "        elif curent_node.val > val and self.left:\n",
    "            self.left.add_element( val)\n",
    "        elif curent_node.val > val:  # and not self.left\n",
    "            new_node =  BST(val)\n",
    "            new_node.parent = self\n",
    "            self.left = new_node\n",
    "        else:\n",
    "            print(\"Wrong place to be boy\")\n",
    "        \n",
    "        \n",
    "tree = BST(5)  # initiated with root\n",
    "\n",
    "elements = [4,32,6,10,10,1,0,7,5,3,16,15]\n",
    "for i in elements:\n",
    "    tree.add_element(i)\n",
    "tree"
   ]
  },
  {
   "cell_type": "code",
   "execution_count": null,
   "metadata": {},
   "outputs": [],
   "source": []
  }
 ],
 "metadata": {
  "kernelspec": {
   "display_name": "NewPytorchEnv",
   "language": "python",
   "name": "python3"
  },
  "language_info": {
   "codemirror_mode": {
    "name": "ipython",
    "version": 3
   },
   "file_extension": ".py",
   "mimetype": "text/x-python",
   "name": "python",
   "nbconvert_exporter": "python",
   "pygments_lexer": "ipython3",
   "version": "3.10.12"
  },
  "orig_nbformat": 4
 },
 "nbformat": 4,
 "nbformat_minor": 2
}
