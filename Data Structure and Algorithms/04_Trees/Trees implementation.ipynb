{
 "cells": [
  {
   "cell_type": "markdown",
   "metadata": {},
   "source": [
    "1. Tree Data structure implementation"
   ]
  },
  {
   "cell_type": "code",
   "execution_count": 11,
   "metadata": {},
   "outputs": [
    {
     "data": {
      "text/plain": [
       "<Tree obj:Val=5, Children=[<Tree obj:Val=4, Children=[<Tree obj:Val=3, Children=[]], <Tree obj:Val=10, Children=[<Tree obj:Val=6, Children=[], <Tree obj:Val=1, Children=[<Tree obj:Val=100, Children=[]]]]"
      ]
     },
     "execution_count": 11,
     "metadata": {},
     "output_type": "execute_result"
    }
   ],
   "source": [
    "class Tree:\n",
    "    def __init__(self, val, children=[]):\n",
    "        self.val = val\n",
    "        self.children = children\n",
    "\n",
    "    def __repr__(self):\n",
    "        return f'<Tree obj:Val={self.val}, Children={self.children}'\n",
    "tree = Tree(5,[Tree(4,[Tree(3)]), Tree(10,[Tree(6), Tree(1,[Tree(100)])])])\n",
    "tree"
   ]
  },
  {
   "cell_type": "markdown",
   "metadata": {},
   "source": [
    "2. Binary Tree implementation"
   ]
  },
  {
   "cell_type": "code",
   "execution_count": 78,
   "metadata": {},
   "outputs": [
    {
     "data": {
      "text/plain": [
       "[BinaryTree Object] Val:5\n",
       "    - Left:[BinaryTree Object] Val:3\n",
       "        - Left:[BinaryTree Object] Val:2\n",
       "            - Left:None\n",
       "            - Right:[BinaryTree Object] Val:1\n",
       "                - Left:None\n",
       "                - Right:None\n",
       "        - Right:None\n",
       "    - Right:[BinaryTree Object] Val:5\n",
       "        - Left:[BinaryTree Object] Val:0\n",
       "            - Left:None\n",
       "            - Right:None\n",
       "        - Right:None"
      ]
     },
     "execution_count": 78,
     "metadata": {},
     "output_type": "execute_result"
    }
   ],
   "source": [
    "class BinaryTree:\n",
    "    def __init__(self,val):\n",
    "        self.val = val\n",
    "        self.left = None\n",
    "        self.right = None\n",
    "        self.parent = None\n",
    "\n",
    "    def _get_level(self):\n",
    "        level = 0\n",
    "        node =self\n",
    "        while node.parent:\n",
    "            node = node.parent\n",
    "            level += 1\n",
    "        return level\n",
    "    \n",
    "    def __repr__(self):\n",
    "        return f'[BinaryTree Object] Val:{self.val}\\n{(self._get_level()+1)*\"    \"}- Left:{self.left}\\n{(self._get_level()+1)*\"    \"}- Right:{self.right}'\n",
    "    \n",
    "    def add_left(self, val):\n",
    "        self.left = BinaryTree(val)\n",
    "        self.left.parent = self\n",
    "\n",
    "    def add_right(self, val):\n",
    "        self.right = BinaryTree(val)\n",
    "        self.right.parent = self\n",
    "\n",
    "root = BinaryTree(5)\n",
    "root.add_left(3)\n",
    "root.add_right(5)\n",
    "root.left.add_left(2)\n",
    "root.right.add_left(0)\n",
    "root.left.left.add_right(1)\n",
    "root"
   ]
  },
  {
   "cell_type": "markdown",
   "metadata": {},
   "source": [
    "3. Binary Search Tree implementation"
   ]
  },
  {
   "cell_type": "code",
   "execution_count": 88,
   "metadata": {},
   "outputs": [
    {
     "data": {
      "text/plain": [
       "[BST Object] Val:5\n",
       "    - Left:[BST Object] Val:1\n",
       "    - Left:None\n",
       "    - Right:None\n",
       "    - Right:[BST Object] Val:8\n",
       "    - Left:None\n",
       "    - Right:None"
      ]
     },
     "execution_count": 88,
     "metadata": {},
     "output_type": "execute_result"
    }
   ],
   "source": [
    "class BST:\n",
    "    def __init__(self,val):\n",
    "        self.val = val\n",
    "        self.left = None\n",
    "        self.right = None\n",
    "        self.parent = None\n",
    "\n",
    "    def _get_level(self):\n",
    "        level = 0\n",
    "        node =self\n",
    "        while node.parent:\n",
    "            node = node.parent\n",
    "            level += 1\n",
    "        return level\n",
    "    \n",
    "    def __repr__(self):\n",
    "        return f'[BST Object] Val:{self.val}\\n{(self._get_level()+1)*\"    \"}- Left:{self.left}\\n{(self._get_level()+1)*\"    \"}- Right:{self.right}'\n",
    "    \n",
    "    def add_element(self, val):\n",
    "        current_node_val = self.val  # root val at start\n",
    "        if current_node_val == val:\n",
    "            return\n",
    "        \n",
    "        elif current_node_val < val and self.right:\n",
    "            self.right.add_element(self, val)\n",
    "        elif current_node_val < val:  # and not self.right\n",
    "            self.right = BST(val)\n",
    "            BST(val).parent = self\n",
    "        \n",
    "        elif current_node_val > val and self.left:\n",
    "            self.left.add_element(self, val)\n",
    "        elif current_node_val > val:  # and not self.left\n",
    "            self.left = BST(val)\n",
    "            BST(val).parent = self\n",
    "        else:\n",
    "            print(\"Wrong place to be boy\")\n",
    "        \n",
    "        \n",
    "root = BST(5)\n",
    "root.add_element(1)\n",
    "root.add_element(8)\n",
    "root  "
   ]
  },
  {
   "cell_type": "code",
   "execution_count": null,
   "metadata": {},
   "outputs": [],
   "source": []
  }
 ],
 "metadata": {
  "kernelspec": {
   "display_name": "NewPytorchEnv",
   "language": "python",
   "name": "python3"
  },
  "language_info": {
   "codemirror_mode": {
    "name": "ipython",
    "version": 3
   },
   "file_extension": ".py",
   "mimetype": "text/x-python",
   "name": "python",
   "nbconvert_exporter": "python",
   "pygments_lexer": "ipython3",
   "version": "3.10.12"
  },
  "orig_nbformat": 4
 },
 "nbformat": 4,
 "nbformat_minor": 2
}
