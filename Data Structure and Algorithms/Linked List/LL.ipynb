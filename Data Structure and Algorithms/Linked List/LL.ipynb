{
 "cells": [
  {
   "cell_type": "code",
   "execution_count": 1,
   "metadata": {},
   "outputs": [],
   "source": [
    "from Linked_List import *"
   ]
  },
  {
   "cell_type": "markdown",
   "metadata": {},
   "source": [
    "Insertion"
   ]
  },
  {
   "cell_type": "code",
   "execution_count": 12,
   "metadata": {},
   "outputs": [
    {
     "name": "stdout",
     "output_type": "stream",
     "text": [
      "1 -> 2 -> 4 -> 5 \n",
      "1 -> 2 -> 3 -> 4 -> 5 \n",
      "5\n"
     ]
    }
   ],
   "source": [
    "ll = LinkedList()\n",
    "ll.insert_end(1)\n",
    "ll.insert_end(2)\n",
    "ll.insert_end(4)\n",
    "ll.insert_end(5)\n",
    "ll.display()\n",
    "ll.insert(3,2)\n",
    "ll.display()\n",
    "print(ll.length())"
   ]
  },
  {
   "cell_type": "markdown",
   "metadata": {},
   "source": [
    "Deletion"
   ]
  },
  {
   "cell_type": "code",
   "execution_count": 3,
   "metadata": {},
   "outputs": [
    {
     "name": "stdout",
     "output_type": "stream",
     "text": [
      "1 -> 2 -> 3 -> 5 \n"
     ]
    }
   ],
   "source": [
    "ll.delete(3)\n",
    "ll.display()"
   ]
  },
  {
   "cell_type": "code",
   "execution_count": 4,
   "metadata": {},
   "outputs": [
    {
     "name": "stdout",
     "output_type": "stream",
     "text": [
      "1 -> 2 -> 3 \n"
     ]
    }
   ],
   "source": [
    "ll.delete(3)\n",
    "ll.display()"
   ]
  },
  {
   "cell_type": "code",
   "execution_count": 5,
   "metadata": {},
   "outputs": [
    {
     "ename": "Exception",
     "evalue": "Index out of range",
     "output_type": "error",
     "traceback": [
      "\u001b[0;31m---------------------------------------------------------------------------\u001b[0m",
      "\u001b[0;31mException\u001b[0m                                 Traceback (most recent call last)",
      "Cell \u001b[0;32mIn[5], line 1\u001b[0m\n\u001b[0;32m----> 1\u001b[0m ll\u001b[39m.\u001b[39;49mdelete(\u001b[39m3\u001b[39;49m)\n\u001b[1;32m      2\u001b[0m ll\u001b[39m.\u001b[39mdisplay()\n",
      "File \u001b[0;32m~/Documents/GitHub/Blogs/Data Structure and Algorithms/Linked List/Linked_List.py:55\u001b[0m, in \u001b[0;36mLinkedList.delete\u001b[0;34m(self, index)\u001b[0m\n\u001b[1;32m     53\u001b[0m \u001b[39mdef\u001b[39;00m \u001b[39mdelete\u001b[39m(\u001b[39mself\u001b[39m, index):\n\u001b[1;32m     54\u001b[0m     \u001b[39mif\u001b[39;00m index \u001b[39m>\u001b[39m\u001b[39m=\u001b[39m \u001b[39mself\u001b[39m\u001b[39m.\u001b[39mlength():\n\u001b[0;32m---> 55\u001b[0m         \u001b[39mraise\u001b[39;00m \u001b[39mException\u001b[39;00m(\u001b[39m\"\u001b[39m\u001b[39mIndex out of range\u001b[39m\u001b[39m\"\u001b[39m)\n\u001b[1;32m     56\u001b[0m     \u001b[39melif\u001b[39;00m index \u001b[39m==\u001b[39m \u001b[39m0\u001b[39m:\n\u001b[1;32m     57\u001b[0m         \u001b[39mif\u001b[39;00m \u001b[39mself\u001b[39m\u001b[39m.\u001b[39mhead\u001b[39m.\u001b[39mnext:\n",
      "\u001b[0;31mException\u001b[0m: Index out of range"
     ]
    }
   ],
   "source": [
    "ll.delete(3)\n",
    "ll.display()"
   ]
  },
  {
   "cell_type": "code",
   "execution_count": 6,
   "metadata": {},
   "outputs": [
    {
     "name": "stdout",
     "output_type": "stream",
     "text": [
      "1 -> 3 \n"
     ]
    }
   ],
   "source": [
    "ll.delete(1)\n",
    "ll.display()"
   ]
  },
  {
   "cell_type": "code",
   "execution_count": 7,
   "metadata": {},
   "outputs": [
    {
     "name": "stdout",
     "output_type": "stream",
     "text": [
      "3 \n"
     ]
    }
   ],
   "source": [
    "ll.delete(0)\n",
    "ll.display()"
   ]
  },
  {
   "cell_type": "code",
   "execution_count": 8,
   "metadata": {},
   "outputs": [
    {
     "name": "stdout",
     "output_type": "stream",
     "text": [
      "None \n"
     ]
    }
   ],
   "source": [
    "ll.delete(0)\n",
    "ll.display()"
   ]
  },
  {
   "cell_type": "code",
   "execution_count": 10,
   "metadata": {},
   "outputs": [
    {
     "ename": "Exception",
     "evalue": "Index out of range",
     "output_type": "error",
     "traceback": [
      "\u001b[0;31m---------------------------------------------------------------------------\u001b[0m",
      "\u001b[0;31mException\u001b[0m                                 Traceback (most recent call last)",
      "Cell \u001b[0;32mIn[10], line 1\u001b[0m\n\u001b[0;32m----> 1\u001b[0m ll\u001b[39m.\u001b[39;49mdelete(\u001b[39m0\u001b[39;49m)\n\u001b[1;32m      2\u001b[0m ll\u001b[39m.\u001b[39mdisplay()\n",
      "File \u001b[0;32m~/Documents/GitHub/Blogs/Data Structure and Algorithms/Linked List/Linked_List.py:55\u001b[0m, in \u001b[0;36mLinkedList.delete\u001b[0;34m(self, index)\u001b[0m\n\u001b[1;32m     53\u001b[0m \u001b[39mdef\u001b[39;00m \u001b[39mdelete\u001b[39m(\u001b[39mself\u001b[39m, index):\n\u001b[1;32m     54\u001b[0m     \u001b[39mif\u001b[39;00m index \u001b[39m>\u001b[39m\u001b[39m=\u001b[39m \u001b[39mself\u001b[39m\u001b[39m.\u001b[39mlength():\n\u001b[0;32m---> 55\u001b[0m         \u001b[39mraise\u001b[39;00m \u001b[39mException\u001b[39;00m(\u001b[39m\"\u001b[39m\u001b[39mIndex out of range\u001b[39m\u001b[39m\"\u001b[39m)\n\u001b[1;32m     56\u001b[0m     \u001b[39melif\u001b[39;00m index \u001b[39m==\u001b[39m \u001b[39m0\u001b[39m:\n\u001b[1;32m     57\u001b[0m         \u001b[39mif\u001b[39;00m \u001b[39mself\u001b[39m\u001b[39m.\u001b[39mhead\u001b[39m.\u001b[39mnext:\n",
      "\u001b[0;31mException\u001b[0m: Index out of range"
     ]
    }
   ],
   "source": [
    "ll.delete(0)\n",
    "ll.display()"
   ]
  },
  {
   "cell_type": "markdown",
   "metadata": {},
   "source": [
    "Length"
   ]
  },
  {
   "cell_type": "code",
   "execution_count": 11,
   "metadata": {},
   "outputs": [
    {
     "name": "stdout",
     "output_type": "stream",
     "text": [
      "0\n"
     ]
    }
   ],
   "source": [
    "print(ll.length())"
   ]
  },
  {
   "cell_type": "code",
   "execution_count": null,
   "metadata": {},
   "outputs": [],
   "source": []
  }
 ],
 "metadata": {
  "kernelspec": {
   "display_name": "NewPytorchEnv",
   "language": "python",
   "name": "python3"
  },
  "language_info": {
   "codemirror_mode": {
    "name": "ipython",
    "version": 3
   },
   "file_extension": ".py",
   "mimetype": "text/x-python",
   "name": "python",
   "nbconvert_exporter": "python",
   "pygments_lexer": "ipython3",
   "version": "3.10.12"
  },
  "orig_nbformat": 4
 },
 "nbformat": 4,
 "nbformat_minor": 2
}
