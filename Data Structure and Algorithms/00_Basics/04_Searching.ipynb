{
 "cells": [
  {
   "cell_type": "markdown",
   "metadata": {},
   "source": [
    "# 1. Linear Search"
   ]
  },
  {
   "cell_type": "code",
   "execution_count": 1,
   "metadata": {},
   "outputs": [
    {
     "data": {
      "text/plain": [
       "'4 found at index 6'"
      ]
     },
     "execution_count": 1,
     "metadata": {},
     "output_type": "execute_result"
    }
   ],
   "source": [
    "data = [1,8,5,3,10,11,4]\n",
    "\n",
    "def linear_search(arr,val):\n",
    "    for i,v in enumerate(arr):\n",
    "        if v == val:\n",
    "            return(f'{val} found at index {i}')\n",
    "    return -1\n",
    "linear_search(data,4)"
   ]
  },
  {
   "cell_type": "markdown",
   "metadata": {},
   "source": [
    "- Linearly checks each element\n",
    "- Time complexity: O(n)"
   ]
  },
  {
   "cell_type": "markdown",
   "metadata": {},
   "source": [
    "# 2. Binary Search"
   ]
  },
  {
   "cell_type": "code",
   "execution_count": 2,
   "metadata": {},
   "outputs": [
    {
     "data": {
      "text/plain": [
       "-1"
      ]
     },
     "execution_count": 2,
     "metadata": {},
     "output_type": "execute_result"
    }
   ],
   "source": [
    "\n",
    "data = [1,4,8,11,16,24,32]\n",
    "\n",
    "def binary_search(arr,low,high,val):\n",
    "    if low<=high:\n",
    "        mid = (high+low)//2\n",
    "        if arr[mid] == val:\n",
    "            return mid\n",
    "        else:\n",
    "            if arr[mid] > val:\n",
    "                return binary_search(arr,low, mid-1,val)\n",
    "            else:\n",
    "                return binary_search(arr,mid+1, high,val)\n",
    "    return -1\n",
    "binary_search(data, 0, len(data)-1, 0)\n"
   ]
  },
  {
   "cell_type": "markdown",
   "metadata": {},
   "source": [
    "- Requires a sorted array\n",
    "- Time complexity: O(log n)"
   ]
  }
 ],
 "metadata": {
  "kernelspec": {
   "display_name": "NewPytorchEnv",
   "language": "python",
   "name": "python3"
  },
  "language_info": {
   "codemirror_mode": {
    "name": "ipython",
    "version": 3
   },
   "file_extension": ".py",
   "mimetype": "text/x-python",
   "name": "python",
   "nbconvert_exporter": "python",
   "pygments_lexer": "ipython3",
   "version": "3.10.12"
  },
  "orig_nbformat": 4
 },
 "nbformat": 4,
 "nbformat_minor": 2
}
